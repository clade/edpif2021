{
 "cells": [
  {
   "cell_type": "markdown",
   "id": "296c2f5b",
   "metadata": {},
   "source": [
    "## 1.1"
   ]
  },
  {
   "cell_type": "code",
   "execution_count": 34,
   "id": "548be0d9",
   "metadata": {},
   "outputs": [],
   "source": [
    "from math import *"
   ]
  },
  {
   "cell_type": "code",
   "execution_count": 2,
   "id": "956ccf99",
   "metadata": {},
   "outputs": [
    {
     "data": {
      "text/plain": [
       "2.302585092994046"
      ]
     },
     "execution_count": 2,
     "metadata": {},
     "output_type": "execute_result"
    }
   ],
   "source": [
    "log(10)"
   ]
  },
  {
   "cell_type": "code",
   "execution_count": 5,
   "id": "bdbfe486",
   "metadata": {},
   "outputs": [
    {
     "data": {
      "text/plain": [
       "2.0"
      ]
     },
     "execution_count": 5,
     "metadata": {},
     "output_type": "execute_result"
    }
   ],
   "source": [
    "log(100, 10)"
   ]
  },
  {
   "cell_type": "code",
   "execution_count": 6,
   "id": "9df35bed",
   "metadata": {},
   "outputs": [
    {
     "data": {
      "text/plain": [
       "10.0"
      ]
     },
     "execution_count": 6,
     "metadata": {},
     "output_type": "execute_result"
    }
   ],
   "source": [
    "log(1024, 2)"
   ]
  },
  {
   "cell_type": "code",
   "execution_count": 9,
   "id": "f5a59a9c",
   "metadata": {},
   "outputs": [
    {
     "data": {
      "text/plain": [
       "1.4142135623730951"
      ]
     },
     "execution_count": 9,
     "metadata": {},
     "output_type": "execute_result"
    }
   ],
   "source": [
    "sqrt(2) # 16 digits"
   ]
  },
  {
   "cell_type": "code",
   "execution_count": 11,
   "id": "44948e61",
   "metadata": {},
   "outputs": [
    {
     "data": {
      "text/plain": [
       "0.0"
      ]
     },
     "execution_count": 11,
     "metadata": {},
     "output_type": "execute_result"
    }
   ],
   "source": [
    "acos(sqrt(2)/2) - pi/4"
   ]
  },
  {
   "cell_type": "markdown",
   "id": "86bae3c6",
   "metadata": {},
   "source": [
    "## 1.2"
   ]
  },
  {
   "cell_type": "code",
   "execution_count": 16,
   "id": "86a0fc01",
   "metadata": {},
   "outputs": [
    {
     "data": {
      "text/plain": [
       "120.0"
      ]
     },
     "execution_count": 16,
     "metadata": {},
     "output_type": "execute_result"
    }
   ],
   "source": [
    "def with_taxes(price, vat_rate=0.196):\n",
    "    return price*(1 + vat_rate)\n",
    "\n",
    "with_taxes(100)\n",
    "with_taxes(100, 0.2)\n",
    "with_taxes(100, vat_rate=0.2)"
   ]
  },
  {
   "cell_type": "markdown",
   "id": "abac7209",
   "metadata": {},
   "source": [
    "## 1.3"
   ]
  },
  {
   "cell_type": "code",
   "execution_count": 18,
   "id": "6ff0e0ae",
   "metadata": {},
   "outputs": [
    {
     "data": {
      "text/plain": [
       "1.0471975511965976"
      ]
     },
     "execution_count": 18,
     "metadata": {},
     "output_type": "execute_result"
    }
   ],
   "source": [
    "from math import pi\n",
    "\n",
    "def volume_cone(r, h):\n",
    "    \"\"\" Calculate volume of a cone\n",
    "    \n",
    "    parameters : \n",
    "        r : radius of the cone\n",
    "        h : height of the cone\n",
    "        \n",
    "    output : \n",
    "        - Volume of the cone\n",
    "    \"\"\"\n",
    "    return pi*r**2*h/3\n",
    "\n",
    "volume_cone(1, 1)"
   ]
  },
  {
   "cell_type": "markdown",
   "id": "91f8195d",
   "metadata": {},
   "source": [
    "# 1.4"
   ]
  },
  {
   "cell_type": "code",
   "execution_count": 19,
   "id": "5c848141",
   "metadata": {},
   "outputs": [
    {
     "data": {
      "text/plain": [
       "6.0"
      ]
     },
     "execution_count": 19,
     "metadata": {},
     "output_type": "execute_result"
    }
   ],
   "source": [
    "def triangle_area(a, b, c):\n",
    "    \"\"\" Calculate the areo of a triangle\n",
    "    \n",
    "    Uses the heron formula\n",
    "    \n",
    "    Parameters : \n",
    "        a, b, c : sides of the triangle\n",
    "        \n",
    "    Ouput : \n",
    "        area of the triangle\"\"\"\n",
    "    s = (a + b + c)/2\n",
    "    return sqrt(s*(s-a)*(s-b)*(s-c))\n",
    "\n",
    "triangle_area(3, 4, 5)"
   ]
  },
  {
   "cell_type": "code",
   "execution_count": 20,
   "id": "9babf75a",
   "metadata": {},
   "outputs": [
    {
     "ename": "ValueError",
     "evalue": "math domain error",
     "output_type": "error",
     "traceback": [
      "\u001b[0;31m---------------------------------------------------------------------------\u001b[0m",
      "\u001b[0;31mValueError\u001b[0m                                Traceback (most recent call last)",
      "\u001b[0;32m<ipython-input-20-2ee1994c45b8>\u001b[0m in \u001b[0;36m<module>\u001b[0;34m\u001b[0m\n\u001b[0;32m----> 1\u001b[0;31m \u001b[0mtriangle_area\u001b[0m\u001b[0;34m(\u001b[0m\u001b[0;36m100\u001b[0m\u001b[0;34m,\u001b[0m \u001b[0;36m1\u001b[0m\u001b[0;34m,\u001b[0m \u001b[0;36m1\u001b[0m\u001b[0;34m)\u001b[0m\u001b[0;34m\u001b[0m\u001b[0;34m\u001b[0m\u001b[0m\n\u001b[0m",
      "\u001b[0;32m<ipython-input-19-11dbe39cbbf9>\u001b[0m in \u001b[0;36mtriangle_area\u001b[0;34m(a, b, c)\u001b[0m\n\u001b[1;32m     10\u001b[0m         area of the triangle\"\"\"\n\u001b[1;32m     11\u001b[0m     \u001b[0ms\u001b[0m \u001b[0;34m=\u001b[0m \u001b[0;34m(\u001b[0m\u001b[0ma\u001b[0m \u001b[0;34m+\u001b[0m \u001b[0mb\u001b[0m \u001b[0;34m+\u001b[0m \u001b[0mc\u001b[0m\u001b[0;34m)\u001b[0m\u001b[0;34m/\u001b[0m\u001b[0;36m2\u001b[0m\u001b[0;34m\u001b[0m\u001b[0;34m\u001b[0m\u001b[0m\n\u001b[0;32m---> 12\u001b[0;31m     \u001b[0;32mreturn\u001b[0m \u001b[0msqrt\u001b[0m\u001b[0;34m(\u001b[0m\u001b[0ms\u001b[0m\u001b[0;34m*\u001b[0m\u001b[0;34m(\u001b[0m\u001b[0ms\u001b[0m\u001b[0;34m-\u001b[0m\u001b[0ma\u001b[0m\u001b[0;34m)\u001b[0m\u001b[0;34m*\u001b[0m\u001b[0;34m(\u001b[0m\u001b[0ms\u001b[0m\u001b[0;34m-\u001b[0m\u001b[0mb\u001b[0m\u001b[0;34m)\u001b[0m\u001b[0;34m*\u001b[0m\u001b[0;34m(\u001b[0m\u001b[0ms\u001b[0m\u001b[0;34m-\u001b[0m\u001b[0mc\u001b[0m\u001b[0;34m)\u001b[0m\u001b[0;34m)\u001b[0m\u001b[0;34m\u001b[0m\u001b[0;34m\u001b[0m\u001b[0m\n\u001b[0m\u001b[1;32m     13\u001b[0m \u001b[0;34m\u001b[0m\u001b[0m\n\u001b[1;32m     14\u001b[0m \u001b[0mtriangle_area\u001b[0m\u001b[0;34m(\u001b[0m\u001b[0;36m3\u001b[0m\u001b[0;34m,\u001b[0m \u001b[0;36m4\u001b[0m\u001b[0;34m,\u001b[0m \u001b[0;36m5\u001b[0m\u001b[0;34m)\u001b[0m\u001b[0;34m\u001b[0m\u001b[0;34m\u001b[0m\u001b[0m\n",
      "\u001b[0;31mValueError\u001b[0m: math domain error"
     ]
    }
   ],
   "source": [
    "triangle_area(100, 1, 1)"
   ]
  },
  {
   "cell_type": "markdown",
   "id": "4e4b8547",
   "metadata": {},
   "source": [
    "## 1.5"
   ]
  },
  {
   "cell_type": "code",
   "execution_count": 24,
   "id": "c6a8baf3",
   "metadata": {},
   "outputs": [
    {
     "name": "stdout",
     "output_type": "stream",
     "text": [
      "0.5403018851213304\n",
      "0.5403023058681398\n"
     ]
    }
   ],
   "source": [
    "epsilon = 1E-6\n",
    "f = sin\n",
    "x = 1\n",
    "print((f(x+epsilon) - f(x))/epsilon)\n",
    "print(cos(1))"
   ]
  },
  {
   "cell_type": "code",
   "execution_count": 25,
   "id": "56a7b2e7",
   "metadata": {},
   "outputs": [
    {
     "name": "stdout",
     "output_type": "stream",
     "text": [
      "0.5403023058958567\n",
      "0.5403023058681398\n"
     ]
    }
   ],
   "source": [
    "print((f(x+epsilon) - f(x-epsilon))/(2*epsilon))\n",
    "print(cos(1))\n"
   ]
  },
  {
   "cell_type": "code",
   "execution_count": 44,
   "id": "859da5a4",
   "metadata": {},
   "outputs": [],
   "source": [
    "def derivative(f, epsilon=1E-5):\n",
    "    \"\"\" Calculate derivative of f\n",
    "    \n",
    "    parameters : \n",
    "        f : the function to derivate\n",
    "        epsilon : the precision\n",
    "        \n",
    "    output : \n",
    "        derivative_of_f : function corresponding to \n",
    "            the derivative of f\n",
    "    \"\"\"\n",
    "    def derivative_of_f(x):\n",
    "        return (f(x+epsilon) - f(x-epsilon))/(2*epsilon)\n",
    "    return derivative_of_f"
   ]
  },
  {
   "cell_type": "code",
   "execution_count": 45,
   "id": "ca6b2442",
   "metadata": {},
   "outputs": [
    {
     "name": "stdout",
     "output_type": "stream",
     "text": [
      "2.718281828517632\n",
      "2.718281828459045\n"
     ]
    }
   ],
   "source": [
    "exp_prime = derivative(exp)\n",
    "print(exp_prime(1))\n",
    "print(exp(1))"
   ]
  },
  {
   "cell_type": "code",
   "execution_count": 46,
   "id": "1224decc",
   "metadata": {},
   "outputs": [
    {
     "data": {
      "text/plain": [
       "<function __main__.derivative.<locals>.derivative_of_f(x)>"
      ]
     },
     "execution_count": 46,
     "metadata": {},
     "output_type": "execute_result"
    }
   ],
   "source": [
    "derivative(lambda x:exp(-x**2))"
   ]
  },
  {
   "cell_type": "markdown",
   "id": "cf136ecb",
   "metadata": {},
   "source": [
    "## 1.6"
   ]
  },
  {
   "cell_type": "code",
   "execution_count": 36,
   "id": "b5183ea6",
   "metadata": {},
   "outputs": [
    {
     "data": {
      "text/plain": [
       "0.0"
      ]
     },
     "execution_count": 36,
     "metadata": {},
     "output_type": "execute_result"
    }
   ],
   "source": [
    "x = 1.0\n",
    "(x + 2E-20) - x"
   ]
  },
  {
   "cell_type": "code",
   "execution_count": 40,
   "id": "61f6c99c",
   "metadata": {},
   "outputs": [
    {
     "data": {
      "text/plain": [
       "4.440892098500626e-16"
      ]
     },
     "execution_count": 40,
     "metadata": {},
     "output_type": "execute_result"
    }
   ],
   "source": [
    "y = 5E-16\n",
    "(x+y) - x"
   ]
  },
  {
   "cell_type": "code",
   "execution_count": 43,
   "id": "09a383fc",
   "metadata": {},
   "outputs": [
    {
     "name": "stdout",
     "output_type": "stream",
     "text": [
      "1.1102230246251565e-15\n",
      "1.1102230246251565e-15\n"
     ]
    }
   ],
   "source": [
    "y = 1E-15\n",
    "print((x+y) - x)\n",
    "print(5*2**-52)"
   ]
  },
  {
   "cell_type": "code",
   "execution_count": null,
   "id": "9834d188",
   "metadata": {},
   "outputs": [],
   "source": []
  }
 ],
 "metadata": {
  "kernelspec": {
   "display_name": "Python 3",
   "language": "python",
   "name": "python3"
  },
  "language_info": {
   "codemirror_mode": {
    "name": "ipython",
    "version": 3
   },
   "file_extension": ".py",
   "mimetype": "text/x-python",
   "name": "python",
   "nbconvert_exporter": "python",
   "pygments_lexer": "ipython3",
   "version": "3.8.8"
  }
 },
 "nbformat": 4,
 "nbformat_minor": 5
}
