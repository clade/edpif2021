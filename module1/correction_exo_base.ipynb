{
 "cells": [
  {
   "cell_type": "markdown",
   "metadata": {},
   "source": [
    "## Mathematical functions"
   ]
  },
  {
   "cell_type": "code",
   "execution_count": 1,
   "metadata": {},
   "outputs": [
    {
     "name": "stdout",
     "output_type": "stream",
     "text": [
      "Logarithme of 10 : 2.302585092994046\n",
      "Logarithme of 100 in base 10 : 2.0\n",
      "Square root of 2 : 1.4142135623730951\n",
      "0.7853981633974483\n",
      "0.7853981633974483\n"
     ]
    }
   ],
   "source": [
    "from math import *\n",
    "\n",
    "print(\"Logarithme of 10 :\", log(10))\n",
    "# This is the natural logarithm\n",
    "\n",
    "# help(log) to see the documentation\n",
    "print(\"Logarithme of 100 in base 10 :\", log(100, 10))\n",
    "\n",
    "print(\"Square root of 2 :\", sqrt(2))\n",
    "# 16 digits\n",
    "\n",
    "print(acos(sqrt(2)/2))\n",
    "print(pi/4)\n"
   ]
  },
  {
   "cell_type": "markdown",
   "metadata": {},
   "source": [
    "## Calcul of VAT"
   ]
  },
  {
   "cell_type": "code",
   "execution_count": 5,
   "metadata": {},
   "outputs": [],
   "source": [
    "# The taxe rate should be written in a variable\n",
    "VAT_rate = 19.6/100.\n",
    "\n",
    "def HT_to_TTC(price):\n",
    "    \"\"\" Calculate the price with taxes \"\"\"\n",
    "    return price*(1 + VAT_rate)\n",
    "\n",
    "# Note that the name of the variable inside the function is explicit (price)\n"
   ]
  },
  {
   "cell_type": "code",
   "execution_count": 6,
   "metadata": {},
   "outputs": [],
   "source": [
    "VAT_rate = 19.6/100.\n",
    "\n",
    "def HT_to_TTC(price, VAT_rate=VAT_rate):\n",
    "    \"\"\" Calculate the price with taxes \"\"\"\n",
    "    return price*(1 + VAT_rate)\n"
   ]
  },
  {
   "cell_type": "markdown",
   "metadata": {},
   "source": [
    "## Docstring"
   ]
  },
  {
   "cell_type": "code",
   "execution_count": 7,
   "metadata": {},
   "outputs": [],
   "source": [
    "def volume_cone(r, h):\n",
    "    \"\"\"Volume of a cone\n",
    "\n",
    "    Arguments:\n",
    "        r : radius of the circle at the botton\n",
    "        h : height of the cone\n",
    "    Output : \n",
    "        Volume of the cone\n",
    "    \"\"\"\n",
    "    return pi*r**2*h/3\n",
    "\n",
    "# Note that you should avoid to use variable with a one letter name\n",
    "# Name used in usual math formulae is an exception to this rule"
   ]
  },
  {
   "cell_type": "markdown",
   "metadata": {},
   "source": [
    "## Heron's formula"
   ]
  },
  {
   "cell_type": "code",
   "execution_count": 8,
   "metadata": {},
   "outputs": [],
   "source": [
    "def triangle_area(a,b,c):\n",
    "    \"\"\"Area of a triangle using the Heron's formula\n",
    "\n",
    "    The Heron's formula is used to calculate the area of a triangle using the length of the three sides.\n",
    "\n",
    "    Arguments :\n",
    "        a,b,c : lenght of the three sides\n",
    "    Output :    \n",
    "        Are of the triangle\n",
    "    \"\"\"\n",
    "    s = (a+b+c)/2\n",
    "    return sqrt(s*(s-a)*(s-b)*(s-c))\n",
    "\n",
    "\n",
    "# There is a ValueError if the triangel doesn't exists\n",
    "# because of the square root of a negative number\n",
    "\n",
    "\n"
   ]
  },
  {
   "cell_type": "code",
   "execution_count": 9,
   "metadata": {},
   "outputs": [],
   "source": [
    "def triangle_area(a,b,c):\n",
    "    \"\"\"Area of a triangle using the Heron's formula\n",
    "\n",
    "    The Heron's formula is used to calculate the area of a triangle using the length of the three sides.\n",
    "\n",
    "    Arguments :\n",
    "        a,b,c : lenght of the three sides\n",
    "    Output :    \n",
    "        Area of the triangle\n",
    "    \"\"\"\n",
    "    s = (a+b+c)/2\n",
    "    try:\n",
    "        return sqrt(s*(s-a)*(s-b)*(s-c))\n",
    "    except ValueError:\n",
    "        raise ValueError(\"Cannot calculate the area of the triangle of size {a}, {b} and {c} : this triangle doesn't exists\".format(a=a, b=b, c=c))\n"
   ]
  },
  {
   "cell_type": "markdown",
   "metadata": {},
   "source": [
    "## Derivative"
   ]
  },
  {
   "cell_type": "code",
   "execution_count": 11,
   "metadata": {},
   "outputs": [
    {
     "name": "stdout",
     "output_type": "stream",
     "text": [
      "Numerical value : 0.5403018851213304\n",
      "Shift with respect to the theoretical value (formule 1): -4.2074680939307996e-07\n",
      "Shift with respect to the theoretical value (formule 2): 2.7716939854371958e-11\n"
     ]
    }
   ],
   "source": [
    "from math import sin, cos\n",
    "\n",
    "epsilon = 1E-6\n",
    "x = 1.\n",
    "\n",
    "derivee_calculee = (sin(x+epsilon) - sin(x))/epsilon\n",
    "derivee_theorique = cos(x)\n",
    "\n",
    "print('Numerical value :',derivee_calculee)\n",
    "print(\"Shift with respect to the theoretical value (formule 1):\",  derivee_calculee-derivee_theorique)\n",
    "\n",
    "derivee_calculee = (sin(x+epsilon) - sin(x-epsilon))/(2*epsilon)\n",
    "print(\"Shift with respect to the theoretical value (formule 2):\",  derivee_calculee-derivee_theorique)\n",
    "\n",
    "\n",
    "def derivative(f, epsilon=1E-5):\n",
    "    def derivative_of_f(x, epsilon=epsilon):\n",
    "        return (f(x+epsilon) - f(x-epsilon))/(2*epsilon)\n",
    "    derivative_of_f.__name__ = f.__name__ + '_prime'\n",
    "    derivative_of_f.__doc__ = \"Derivative of the function {f.__name__}\\n\\n{f.__doc__}\".format(f=f)\n",
    "    return derivative_of_f\n",
    "\n",
    "# Note that one can modify the name and docstring of the function\n",
    "# For nested function (function inside functions), assignements to name go to the innermost scope. \n",
    "# Insinde \"derivative_of_f\", the name f correspond to the variable 'f' of the local scope of \n",
    "# the function derivative.\n"
   ]
  },
  {
   "cell_type": "markdown",
   "metadata": {},
   "source": [
    "## Floating point number"
   ]
  },
  {
   "cell_type": "code",
   "execution_count": 12,
   "metadata": {},
   "outputs": [],
   "source": [
    "# 0 because the number of digit stored is about 16\n",
    "\n",
    "# This number is of the order of :math:`2 \\cdot 10^{-16}` (:math:`2^{-52}`). The mantissa of x+y is then exactly\n",
    "# 00000....01 \n",
    "\n",
    "# We should calculate the mantissa of :math:`1+10^{-15}`, i.e find m such that\n",
    "# :math:`1+m 2^{-52}` is closed to :math:`1+10^{-15}`. We obtain 5. The result\n",
    "# is (x+1E-15) - x = :math:`5\\cdot 2^{-52}`\n",
    "\n",
    "# The difference between ((x+epslion) - x ) and epsilon is about :math:`2^{-52}` i.e. :math:`2 \\cdot 10^{-16}`. \n",
    "# The relative error is then 2E-16 / epsilon \n"
   ]
  },
  {
   "cell_type": "markdown",
   "metadata": {},
   "source": [
    "## Sequence limit"
   ]
  },
  {
   "cell_type": "code",
   "execution_count": 13,
   "metadata": {},
   "outputs": [
    {
     "name": "stdout",
     "output_type": "stream",
     "text": [
      "The value of u_10 is : 0.6179775280898876\n"
     ]
    }
   ],
   "source": [
    "i = 0\n",
    "u = 0\n",
    "N = 10\n",
    "while i<N:\n",
    "    u = 1/(1+u)\n",
    "    i = i+1\n",
    "\n",
    "print(\"The value of u_10 is :\", u)"
   ]
  },
  {
   "cell_type": "code",
   "execution_count": 14,
   "metadata": {},
   "outputs": [
    {
     "name": "stdout",
     "output_type": "stream",
     "text": [
      "La value of u is : 1.0\n"
     ]
    }
   ],
   "source": [
    "u_precedent = 0.\n",
    "u = 1.\n",
    "epsilon = 1E-8\n",
    "while abs(u_precedent - u)>epsilon:\n",
    "    u_precedent = u\n",
    "    u_n = 1/(1+u)\n",
    "\n",
    "print(\"La value of u is :\", u)"
   ]
  },
  {
   "cell_type": "code",
   "execution_count": 15,
   "metadata": {},
   "outputs": [
    {
     "name": "stdout",
     "output_type": "stream",
     "text": [
      "Theoretical value 0.6180339887498949\n"
     ]
    }
   ],
   "source": [
    "from math import sqrt\n",
    "print(\"Theoretical value\", (-1 + sqrt(5))/2)\n"
   ]
  },
  {
   "cell_type": "markdown",
   "metadata": {},
   "source": [
    "## Series calculation\n",
    "\n",
    "$$\\sin(x) = \\sum_{n=0}^{\\infty} \\frac{(-1)^n x^{(2n+1)}}{(2n+1)!}$$"
   ]
  },
  {
   "cell_type": "code",
   "execution_count": 21,
   "metadata": {},
   "outputs": [
    {
     "name": "stdout",
     "output_type": "stream",
     "text": [
      "0.841470984648068\n"
     ]
    }
   ],
   "source": [
    "def my_sin(x, epsilon=1E-6):\n",
    "    \"\"\" Calculate sin(x) using taylor expansion\n",
    "    \n",
    "    argument : \n",
    "        x : angle (in rad)\n",
    "        epsilon : accuraction of the calculation\n",
    "        \n",
    "    \"\"\"\n",
    "    x_n = x\n",
    "    out = x\n",
    "    n = 0\n",
    "    while abs(x_n)>epsilon:\n",
    "        n = n + 1\n",
    "        x_n = -x_n*x**2/(2*n)/(2*n+1)\n",
    "        out += x_n\n",
    "    return out\n",
    "        \n",
    "print(my_sin(1))\n"
   ]
  },
  {
   "cell_type": "markdown",
   "metadata": {},
   "source": [
    "## For loop"
   ]
  },
  {
   "cell_type": "code",
   "execution_count": 22,
   "metadata": {},
   "outputs": [
    {
     "name": "stdout",
     "output_type": "stream",
     "text": [
      "3\n",
      "9\n",
      "21\n",
      "27\n",
      "33\n",
      "39\n",
      "51\n",
      "57\n",
      "63\n",
      "69\n",
      "81\n",
      "87\n",
      "93\n",
      "99\n"
     ]
    }
   ],
   "source": [
    "for i in range(1,100,2):\n",
    "    if (i%3 == 0) and not (i%5==0):\n",
    "        print(i)\n"
   ]
  },
  {
   "cell_type": "markdown",
   "metadata": {},
   "source": [
    "## Prime number"
   ]
  },
  {
   "cell_type": "code",
   "execution_count": 23,
   "metadata": {},
   "outputs": [
    {
     "name": "stdout",
     "output_type": "stream",
     "text": [
      "2011 is a prime number\n"
     ]
    }
   ],
   "source": [
    "from math import sqrt, ceil\n",
    "def is_prime(n):\n",
    "    \"\"\"Return wether a number is prime or not\"\"\"\n",
    "    n_max = int(ceil(sqrt(n)))\n",
    "    for i in range(2, n_max+1):\n",
    "        if n%i==0:\n",
    "            return False\n",
    "    return True\n",
    "\n",
    "if is_prime(2011):\n",
    "    print(\"2011 is a prime number\")\n",
    "else:\n",
    "    print(\"2011 is not a prime number\")\n"
   ]
  },
  {
   "cell_type": "code",
   "execution_count": 24,
   "metadata": {},
   "outputs": [
    {
     "name": "stdout",
     "output_type": "stream",
     "text": [
      "The number of prime year is  14\n"
     ]
    }
   ],
   "source": [
    "nb_prime_years = 0\n",
    "for year in range(2001, 2101):\n",
    "    if is_prime(year):\n",
    "        nb_prime_years += 1\n",
    "\n",
    "print(\"The number of prime year is \", nb_prime_years)\n"
   ]
  },
  {
   "cell_type": "markdown",
   "metadata": {},
   "source": [
    "## Simple list"
   ]
  },
  {
   "cell_type": "code",
   "execution_count": 25,
   "metadata": {},
   "outputs": [
    {
     "name": "stdout",
     "output_type": "stream",
     "text": [
      "[4, 2.7, 5.1, 7]\n"
     ]
    }
   ],
   "source": [
    "my_list = []\n",
    "my_list.append(2.7)\n",
    "my_list.append(5.1)\n",
    "my_list.append(7)\n",
    "\n",
    "my_list.insert(0, 4)\n",
    "my_list.insert(1, 2.9)\n",
    "del my_list[1]\n",
    "\n",
    "print(my_list)\n"
   ]
  },
  {
   "cell_type": "markdown",
   "metadata": {},
   "source": [
    "## Research inside a list"
   ]
  },
  {
   "cell_type": "code",
   "execution_count": 27,
   "metadata": {},
   "outputs": [
    {
     "name": "stdout",
     "output_type": "stream",
     "text": [
      "2\n"
     ]
    }
   ],
   "source": [
    "def recherche(l,x):\n",
    "    \"\"\"Reseach inside a list\n",
    "\n",
    "    Cette fonction recherche dans la liste l la premier occurence de x.\n",
    "    Elle renvoie l'indice si il y a un succés. \n",
    "    \"\"\"\n",
    "    for i,elm in enumerate(l):\n",
    "        if elm==x:\n",
    "            return i\n",
    "    return None\n",
    "\n",
    "print(recherche([1,2,5,3], 5))\n"
   ]
  },
  {
   "cell_type": "markdown",
   "metadata": {},
   "source": [
    "## Liste of random numbers"
   ]
  },
  {
   "cell_type": "code",
   "execution_count": 28,
   "metadata": {},
   "outputs": [
    {
     "name": "stdout",
     "output_type": "stream",
     "text": [
      "0.1388\n"
     ]
    }
   ],
   "source": [
    "from random import randint\n",
    "\n",
    "def liste_tirage_deux_des(n):\n",
    "    liste = []\n",
    "    for i in range(n):\n",
    "        liste.append(randint(1,6)+randint(1,6))\n",
    "    return liste\n",
    "\n",
    "ma_liste = liste_tirage_deux_des(100)\n",
    "ma_liste.count(7)\n",
    "\n",
    "n = 100000\n",
    "print(liste_tirage_deux_des(n).count(8)/n)\n",
    "# It shoud be close to 5/36.\n"
   ]
  },
  {
   "cell_type": "code",
   "execution_count": 29,
   "metadata": {},
   "outputs": [
    {
     "name": "stdout",
     "output_type": "stream",
     "text": [
      "0.0581\n"
     ]
    }
   ],
   "source": [
    "def liste_tirage_quatre_des(n):\n",
    "    liste = []\n",
    "    for i in range(n):\n",
    "        liste.append(randint(1,6)+randint(1,6)+randint(1,4)+randint(1,4))\n",
    "    return liste\n",
    "\n",
    "n = 100000\n",
    "print(liste_tirage_quatre_des(n).count(8)/n)\n"
   ]
  },
  {
   "cell_type": "markdown",
   "metadata": {},
   "source": [
    "## Unicode string"
   ]
  },
  {
   "cell_type": "code",
   "execution_count": 32,
   "metadata": {},
   "outputs": [
    {
     "name": "stdout",
     "output_type": "stream",
     "text": [
      "α\n",
      "β\n",
      "γ\n",
      "δ\n",
      "ε\n",
      "ζ\n",
      "η\n",
      "θ\n",
      "ι\n",
      "κ\n",
      "λ\n",
      "μ\n",
      "ν\n",
      "ξ\n",
      "ο\n",
      "π\n",
      "ρ\n",
      "ς\n",
      "σ\n",
      "τ\n",
      "υ\n",
      "φ\n",
      "χ\n",
      "ψ\n",
      "ω\n",
      "Greek letter 3 is:  γ\n"
     ]
    }
   ],
   "source": [
    "for i in range(945, 945+25):\n",
    "    print(chr(i))\n",
    "\n",
    "def greek_letter(n):\n",
    "    if (n>=1) and (n<=25):\n",
    "        return chr(945-1 + n)\n",
    "    else:\n",
    "        raise Exception(\"n should be less than 25\")\n",
    "\n",
    "print(\"Greek letter 3 is: \", greek_letter(3))\n",
    "\n"
   ]
  },
  {
   "cell_type": "code",
   "execution_count": 33,
   "metadata": {},
   "outputs": [],
   "source": [
    "## String and files"
   ]
  },
  {
   "cell_type": "code",
   "execution_count": 34,
   "metadata": {},
   "outputs": [
    {
     "name": "stdout",
     "output_type": "stream",
     "text": [
      "n 21243\n",
      "i 23505\n",
      "r 20214\n",
      "m 9089\n",
      "z 128\n",
      "l 14081\n",
      "b 5287\n",
      "h 19142\n",
      "o 25826\n",
      "j 764\n",
      "g 5651\n",
      "s 21886\n",
      "u 9942\n",
      "k 2358\n",
      "p 5982\n",
      "v 3912\n",
      "d 11839\n",
      "w 6525\n",
      "t 29971\n",
      "a 25100\n",
      "y 6941\n",
      "x 526\n",
      "c 9286\n",
      "e 41603\n",
      "f 7703\n",
      "q 384\n"
     ]
    }
   ],
   "source": [
    "import urllib.request\n",
    "url = \"http://www.gutenberg.org/files/47960/47960-0.txt\"\n",
    "f = urllib.request.urlopen(url)\n",
    "txt = f.read().decode('latin-1').lower()\n",
    "\n",
    "letters = set([chr(i) for i in range(ord('a'), ord('a')+26)])\n",
    "\n",
    "for char in letters:\n",
    "    print(char, txt.count(char))\n"
   ]
  },
  {
   "cell_type": "code",
   "execution_count": 35,
   "metadata": {},
   "outputs": [
    {
     "name": "stdout",
     "output_type": "stream",
     "text": [
      "1833 words starts with an e\n"
     ]
    }
   ],
   "source": [
    "cpt = 0\n",
    "for word in txt.split(' '):\n",
    "    if word.startswith('e'):\n",
    "        cpt += 1\n",
    "\n",
    "print('{cpt} words starts with an e'.format(cpt=cpt))\n"
   ]
  },
  {
   "cell_type": "code",
   "execution_count": null,
   "metadata": {},
   "outputs": [],
   "source": []
  }
 ],
 "metadata": {
  "kernelspec": {
   "display_name": "Python 3",
   "language": "python",
   "name": "python3"
  },
  "language_info": {
   "codemirror_mode": {
    "name": "ipython",
    "version": 3
   },
   "file_extension": ".py",
   "mimetype": "text/x-python",
   "name": "python",
   "nbconvert_exporter": "python",
   "pygments_lexer": "ipython3",
   "version": "3.7.4"
  }
 },
 "nbformat": 4,
 "nbformat_minor": 2
}
