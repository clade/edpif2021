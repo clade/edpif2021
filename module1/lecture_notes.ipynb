{
 "cells": [
  {
   "cell_type": "markdown",
   "metadata": {},
   "source": [
    "The Python language\n",
    "==================\n",
    "\n",
    "- Python is an interpreted language (by opposition to a compiled language like C or Fortran)\n",
    "\n",
    "- Interpreted language are easier to use than compile language but slower. This is not a problem for scientific calculation because complex algorithms are programmed in C or Fortran. \n",
    "\n",
    "- There are two versions of Python, the version 2 (currently 2.7) and the version 3 (currently 3.8). There are small differences in the syntax. The version 2.7 is obsolete since Jan. 2020 but still in use.\n",
    "\n",
    "- We strongly advise to install the Anaconda distribution ``https://www.anaconda.com/download/``. This distribution was build for scientific calculation. It is available for different platforms (Linux, Mac or Windows). \n"
   ]
  },
  {
   "cell_type": "markdown",
   "metadata": {},
   "source": [
    "A taste of Python\n",
    "=================\n",
    "\n",
    "$$e^x = \\sum_{n=0}^{\\infty} \\frac{x^n}{n!}$$"
   ]
  },
  {
   "cell_type": "code",
   "execution_count": 3,
   "metadata": {},
   "outputs": [
    {
     "name": "stdout",
     "output_type": "stream",
     "text": [
      "23.103865905895475\n"
     ]
    }
   ],
   "source": [
    "x = 3.14\n",
    "epsilon = 1E-6\n",
    "result = 0\n",
    "n = 1\n",
    "term = 1 # Initial value\n",
    "while abs(term)>epsilon : \n",
    "    result = result + term\n",
    "    term  = term * x/n\n",
    "    n = n+1\n",
    "print(result)"
   ]
  },
  {
   "cell_type": "markdown",
   "metadata": {},
   "source": [
    "How to execute Python code\n",
    "==========================\n",
    "\n",
    "\n",
    "https://docs.anaconda.com/anaconda/install/verify-install/\n",
    "\n",
    "* python command\n",
    "* IPython\n",
    "* Spyder\n",
    "* Jupyter notebook"
   ]
  },
  {
   "cell_type": "code",
   "execution_count": 5,
   "metadata": {},
   "outputs": [
    {
     "data": {
      "text/plain": [
       "1"
      ]
     },
     "execution_count": 5,
     "metadata": {},
     "output_type": "execute_result"
    }
   ],
   "source": [
    "very_long_variable = 1\n",
    "very_long_variable"
   ]
  },
  {
   "cell_type": "markdown",
   "metadata": {},
   "source": [
    "## Title\n",
    "\n",
    "* list1\n",
    "* list 2\n",
    "\n",
    "**Bold**"
   ]
  },
  {
   "cell_type": "markdown",
   "metadata": {},
   "source": [
    "Variable in Python\n",
    "==================\n",
    "\n",
    "The name of a variable is any sequence of letters or numbers or ``_`` which does not starts with a number. Variable are case sensitive"
   ]
  },
  {
   "cell_type": "code",
   "execution_count": 7,
   "metadata": {},
   "outputs": [
    {
     "name": "stdout",
     "output_type": "stream",
     "text": [
      "4\n"
     ]
    }
   ],
   "source": [
    "a = 4\n",
    "vraieble34FTERtert564TSDfzer__ZER_fdf = 3\n",
    "print(a)"
   ]
  },
  {
   "cell_type": "code",
   "execution_count": 11,
   "metadata": {},
   "outputs": [],
   "source": [
    "very_long_variable_name = 4\n"
   ]
  },
  {
   "cell_type": "markdown",
   "metadata": {},
   "source": [
    "Functions\n",
    "========="
   ]
  },
  {
   "cell_type": "code",
   "execution_count": 16,
   "metadata": {},
   "outputs": [],
   "source": [
    "def exp(x):\n",
    "    \"\"\" calculate e to the power x \n",
    "    \n",
    "    Uses the taylor serie of the e^x\n",
    "    \"\"\"\n",
    "    epsilon = 1E-6\n",
    "    result = 0\n",
    "    n = 1\n",
    "    term = 1 # Initial value\n",
    "    while abs(term)>epsilon :\n",
    "        result = result + term\n",
    "        term  = term * x/n\n",
    "        n = n+1\n",
    "    return result"
   ]
  },
  {
   "cell_type": "code",
   "execution_count": 15,
   "metadata": {},
   "outputs": [],
   "source": [
    "exp?"
   ]
  },
  {
   "cell_type": "markdown",
   "metadata": {},
   "source": [
    "Data types in Python\n",
    "====================\n",
    "\n",
    "Numbers\n",
    "-------\n"
   ]
  },
  {
   "cell_type": "code",
   "execution_count": 25,
   "metadata": {},
   "outputs": [
    {
     "data": {
      "text/plain": [
       "1.0"
      ]
     },
     "execution_count": 25,
     "metadata": {},
     "output_type": "execute_result"
    }
   ],
   "source": [
    "# Integers\n",
    "23**50\n",
    "# Float : \n",
    "12.345456\n",
    "1E-34\n",
    "# Complex \n",
    "z = 1 + 1J\n",
    "z**2\n",
    "z.real\n",
    "z.imag"
   ]
  },
  {
   "cell_type": "code",
   "execution_count": 26,
   "metadata": {},
   "outputs": [
    {
     "data": {
      "text/plain": [
       "1.0"
      ]
     },
     "execution_count": 26,
     "metadata": {},
     "output_type": "execute_result"
    }
   ],
   "source": [
    "(1+1J).imag"
   ]
  },
  {
   "cell_type": "code",
   "execution_count": 27,
   "metadata": {},
   "outputs": [
    {
     "data": {
      "text/plain": [
       "(1-1j)"
      ]
     },
     "execution_count": 27,
     "metadata": {},
     "output_type": "execute_result"
    }
   ],
   "source": [
    "z.conjugate()"
   ]
  },
  {
   "cell_type": "markdown",
   "metadata": {},
   "source": [
    "Boolean and comparison\n",
    "----------------------\n"
   ]
  },
  {
   "cell_type": "code",
   "execution_count": 31,
   "metadata": {},
   "outputs": [
    {
     "name": "stdout",
     "output_type": "stream",
     "text": [
      "True\n",
      "False\n",
      "False\n"
     ]
    }
   ],
   "source": [
    "True # False\n",
    "a = True\n",
    "b = False\n",
    "print(a or b)\n",
    "print(not a)\n",
    "print(a and b)"
   ]
  },
  {
   "cell_type": "code",
   "execution_count": 36,
   "metadata": {},
   "outputs": [
    {
     "name": "stdout",
     "output_type": "stream",
     "text": [
      "True\n",
      "True\n"
     ]
    }
   ],
   "source": [
    "# Don't use | or &\n",
    "print(7==4 | 3==7)\n",
    "print(7== (4 | 3) ==7)"
   ]
  },
  {
   "cell_type": "code",
   "execution_count": 37,
   "metadata": {},
   "outputs": [],
   "source": [
    "from math import log\n",
    "x = -1\n",
    "if (x>0) and (log(x)>4):\n",
    "    print(\"Hello\")"
   ]
  },
  {
   "cell_type": "code",
   "execution_count": 39,
   "metadata": {},
   "outputs": [
    {
     "data": {
      "text/plain": [
       "False"
      ]
     },
     "execution_count": 39,
     "metadata": {},
     "output_type": "execute_result"
    }
   ],
   "source": [
    "1==3\n",
    "1!=3\n",
    "1>2\n",
    "1>=2\n"
   ]
  },
  {
   "cell_type": "markdown",
   "metadata": {},
   "source": [
    "Strings\n",
    "-------"
   ]
  },
  {
   "cell_type": "code",
   "execution_count": 41,
   "metadata": {},
   "outputs": [
    {
     "name": "stdout",
     "output_type": "stream",
     "text": [
      "Hello\n",
      "What time is it ?\n"
     ]
    }
   ],
   "source": [
    "s = \"Peter\"\n",
    "s = 'Peter'\n",
    "s = \"Peter's dog\"\n",
    "s = \"\"\"Hello\n",
    "What time is it ?\"\"\"\n",
    "print(s)"
   ]
  },
  {
   "cell_type": "code",
   "execution_count": 43,
   "metadata": {},
   "outputs": [
    {
     "name": "stdout",
     "output_type": "stream",
     "text": [
      "Hello\n",
      "What time is it ?\n"
     ]
    }
   ],
   "source": [
    "s = 'Peter\\'s dog'\n",
    "s = \"Hello\\nWhat time is it ?\"\n",
    "print(s)"
   ]
  },
  {
   "cell_type": "code",
   "execution_count": 46,
   "metadata": {},
   "outputs": [
    {
     "name": "stdout",
     "output_type": "stream",
     "text": [
      "\\nu\n"
     ]
    },
    {
     "data": {
      "text/plain": [
       "'\\\\nu'"
      ]
     },
     "execution_count": 46,
     "metadata": {},
     "output_type": "execute_result"
    }
   ],
   "source": [
    "s = r'\\nu'\n",
    "print(s)\n",
    "s"
   ]
  },
  {
   "cell_type": "code",
   "execution_count": 48,
   "metadata": {},
   "outputs": [
    {
     "name": "stdout",
     "output_type": "stream",
     "text": [
      "5\n",
      "2\n"
     ]
    }
   ],
   "source": [
    "s = 'Hello'\n",
    "print(len(s))\n",
    "s = '\\nu'\n",
    "print(len(s))"
   ]
  },
  {
   "cell_type": "code",
   "execution_count": 64,
   "metadata": {},
   "outputs": [
    {
     "name": "stdout",
     "output_type": "stream",
     "text": [
      "Il est 15h05\n"
     ]
    }
   ],
   "source": [
    "hour = 15\n",
    "minute = 5\n",
    "s = \"It's {h}:{mn:02}\"\n",
    "s = \"Il est {h}h{mn:02}\"\n",
    "s = s.format(h=hour, mn=minute)\n",
    "print(s)"
   ]
  },
  {
   "cell_type": "code",
   "execution_count": 59,
   "metadata": {},
   "outputs": [
    {
     "name": "stdout",
     "output_type": "stream",
     "text": [
      "+006.28319\n",
      "-003.14159\n",
      "c = 2.998e+08 m/s\n"
     ]
    }
   ],
   "source": [
    "from math import pi\n",
    "print('{1:+010.5f}'.format(pi, 2*pi)) # '3.14159'\n",
    "print('{0:+010.5f}'.format(-pi)) # '3.14159'\n",
    "\n",
    "c = 299792458. # Speed of light in m/s\n",
    "print('c = {0:.3e} m/s'.format(c)) # '2.998e+08'"
   ]
  },
  {
   "cell_type": "code",
   "execution_count": 61,
   "metadata": {},
   "outputs": [
    {
     "data": {
      "text/plain": [
       "'2.09440'"
      ]
     },
     "execution_count": 61,
     "metadata": {},
     "output_type": "execute_result"
    }
   ],
   "source": [
    "f'{2*pi/3:.5f}'"
   ]
  },
  {
   "cell_type": "code",
   "execution_count": 63,
   "metadata": {},
   "outputs": [
    {
     "name": "stdout",
     "output_type": "stream",
     "text": [
      "c = 299792458.0\n"
     ]
    }
   ],
   "source": [
    "# Don't use something like \n",
    "s = 'c = ' + str(c)\n",
    "print(s)"
   ]
  },
  {
   "cell_type": "markdown",
   "metadata": {},
   "source": [
    "Common methods on string are already implemented\n",
    "\n",
    "* split\n",
    "* strip\n",
    "* join\n",
    "* startswith, endswith\n",
    "* lower(), upper()\n",
    "* comparison (alphabetic order) : 'Peter'>'John' is True.\n"
   ]
  },
  {
   "cell_type": "code",
   "execution_count": 65,
   "metadata": {},
   "outputs": [
    {
     "name": "stdout",
     "output_type": "stream",
     "text": [
      "['Where', 'is', 'Brian?', 'Brian', 'is', 'in', 'the', 'kitchen.']\n",
      "The sentence contains 7 different words\n",
      "The words are kitchen. and in and Brian? and Where and the and is and Brian.\n",
      "The word Brian is in the sentence\n"
     ]
    }
   ],
   "source": [
    "s = \"  Where is Brian? Brian is in the kitchen.   \\r\\n\"\n",
    "s = s.strip() # string with leading and trailing whitespaces characters removed\n",
    "word_list = s.split() # list containing the words\n",
    "print(word_list)\n",
    "word_set = set(word_list)\n",
    "print(\"The sentence contains {0} different words\".format(len(word_set)))\n",
    "print(\"The words are {}.\".format(' and '.join(list(word_set))))\n",
    "if \"Brian\" in s:\n",
    "    print(\"The word Brian is in the sentence\")"
   ]
  },
  {
   "cell_type": "code",
   "execution_count": 70,
   "metadata": {},
   "outputs": [
    {
     "name": "stdout",
     "output_type": "stream",
     "text": [
      "HELLO\n"
     ]
    }
   ],
   "source": [
    "s = 'Hello'\n",
    "s.startswith('He')\n",
    "print(s.upper())"
   ]
  },
  {
   "cell_type": "code",
   "execution_count": 76,
   "metadata": {},
   "outputs": [
    {
     "name": "stdout",
     "output_type": "stream",
     "text": [
      "Where\n",
      "is\n"
     ]
    }
   ],
   "source": [
    "s = 'Where is Brian? Brian is in the kitchen.'\n",
    "print(s[0:5])\n",
    "print(s[6:8])"
   ]
  },
  {
   "cell_type": "markdown",
   "metadata": {},
   "source": [
    "List in python\n",
    "--------------\n",
    "\n",
    "* List creation\n",
    "* Modification of an element\n",
    "* The command ``range(n)``\n",
    "* A list can contain elements of any type (list containing a list)\n",
    "* *list comprehension* \n",
    "* List comprehension can be used to filter a list\n",
    "* There are two convenient ways to loop through a list"
   ]
  },
  {
   "cell_type": "code",
   "execution_count": 78,
   "metadata": {},
   "outputs": [
    {
     "data": {
      "text/plain": [
       "[(3.24+1j), 3, 4]"
      ]
     },
     "execution_count": 78,
     "metadata": {},
     "output_type": "execute_result"
    }
   ],
   "source": [
    "l = [1, 2, 3.23454576, 4]\n",
    "l = [] # Empty list\n",
    "l.append(3) # now l==[3]\n",
    "l.append(4) # now l==[3, 4]\n",
    "l.insert(0,3.24+1j) # now l==[3.24+1j,3,4]\n",
    "l"
   ]
  },
  {
   "cell_type": "code",
   "execution_count": 80,
   "metadata": {},
   "outputs": [
    {
     "name": "stdout",
     "output_type": "stream",
     "text": [
      "[(3.24+1j), 5, 4]\n"
     ]
    }
   ],
   "source": [
    "l[1] = 5\n",
    "print(l)"
   ]
  },
  {
   "cell_type": "code",
   "execution_count": 83,
   "metadata": {},
   "outputs": [
    {
     "name": "stdout",
     "output_type": "stream",
     "text": [
      "1\n",
      "3\n",
      "5\n",
      "Pierre\n",
      "1 is the item number 0 of the list\n",
      "3 is the item number 1 of the list\n",
      "5 is the item number 2 of the list\n",
      "Pierre is the item number 3 of the list\n"
     ]
    }
   ],
   "source": [
    "l = [1, 3, 5, \"Pierre\"]\n",
    "for elm in l:\n",
    "    print(elm)\n",
    "\n",
    "for i,elm in enumerate(l):\n",
    "    print(f'{elm} is the item number {i} of the list')\n"
   ]
  },
  {
   "cell_type": "code",
   "execution_count": 84,
   "metadata": {},
   "outputs": [
    {
     "name": "stdout",
     "output_type": "stream",
     "text": [
      "0\n",
      "1\n",
      "2\n",
      "3\n",
      "4\n"
     ]
    }
   ],
   "source": [
    "for i in range(5):\n",
    "    print(i)"
   ]
  },
  {
   "cell_type": "code",
   "execution_count": 85,
   "metadata": {},
   "outputs": [
    {
     "name": "stdout",
     "output_type": "stream",
     "text": [
      "0\n",
      "1\n",
      "2\n",
      "3\n",
      "4\n",
      "5\n"
     ]
    }
   ],
   "source": [
    "for i in range(10000000000):\n",
    "    if i>5:\n",
    "        break\n",
    "    print(i)"
   ]
  },
  {
   "cell_type": "code",
   "execution_count": 86,
   "metadata": {},
   "outputs": [
    {
     "data": {
      "text/plain": [
       "[1, 4, 16, 25]"
      ]
     },
     "execution_count": 86,
     "metadata": {},
     "output_type": "execute_result"
    }
   ],
   "source": [
    "l = [1, 2, 4, 5]\n",
    "output_list = []\n",
    "for item in l:\n",
    "    output_list.append(item**2)\n",
    "output_list"
   ]
  },
  {
   "cell_type": "code",
   "execution_count": 91,
   "metadata": {},
   "outputs": [
    {
     "name": "stdout",
     "output_type": "stream",
     "text": [
      "[1, 4, 25]\n"
     ]
    }
   ],
   "source": [
    "l = [1, 2, -4, 5]\n",
    "output_list = [item**2 for item in l if item>0]\n",
    "print(output_list)"
   ]
  },
  {
   "cell_type": "code",
   "execution_count": 92,
   "metadata": {},
   "outputs": [
    {
     "name": "stdout",
     "output_type": "stream",
     "text": [
      "0.8414709848078965\n",
      "0.5403023058681398\n",
      "1.5574077246549023\n"
     ]
    }
   ],
   "source": [
    "from math import sin, cos, tan\n",
    "\n",
    "l = [sin, cos, tan]\n",
    "for function in l:\n",
    "    print(function(1))"
   ]
  },
  {
   "cell_type": "code",
   "execution_count": 93,
   "metadata": {},
   "outputs": [
    {
     "data": {
      "text/plain": [
       "[<function math.sin(x, /)>,\n",
       " <function math.cos(x, /)>,\n",
       " <function math.tan(x, /)>,\n",
       " [...]]"
      ]
     },
     "execution_count": 93,
     "metadata": {},
     "output_type": "execute_result"
    }
   ],
   "source": [
    "l.append(l)\n",
    "l"
   ]
  },
  {
   "cell_type": "code",
   "execution_count": 111,
   "metadata": {},
   "outputs": [
    {
     "name": "stdout",
     "output_type": "stream",
     "text": [
      "4\n",
      "6\n",
      "2\n",
      "7\n",
      "78\n",
      "45\n"
     ]
    },
    {
     "data": {
      "text/plain": [
       "'4       ;6       ;2       ;7       ;78      ;45      '"
      ]
     },
     "execution_count": 111,
     "metadata": {},
     "output_type": "execute_result"
    }
   ],
   "source": [
    "s = '4, 6, 2, 7, 78, 45'\n",
    "for value in s.split(','):\n",
    "    print(int(value.strip()))\n",
    "[int(value.strip()) for value in s.split(',')]\n",
    "\n",
    "';'.join([f'{value.strip():8}' for value in s.split(',')])"
   ]
  },
  {
   "cell_type": "markdown",
   "metadata": {},
   "source": [
    "Tuple\n",
    "-----\n",
    "\n",
    "* Tuples are used to collect few objects together\n",
    "* Tuple are used when a function returns more that one value"
   ]
  },
  {
   "cell_type": "code",
   "execution_count": 112,
   "metadata": {},
   "outputs": [
    {
     "data": {
      "text/plain": [
       "4"
      ]
     },
     "execution_count": 112,
     "metadata": {},
     "output_type": "execute_result"
    }
   ],
   "source": [
    "t = (1, 4, 6)\n",
    "t[1]\n",
    "# t.append(6) => error\n",
    "# t[3] => error"
   ]
  },
  {
   "cell_type": "code",
   "execution_count": 113,
   "metadata": {},
   "outputs": [],
   "source": [
    "def f(x):\n",
    "    return x**2, x**3\n",
    "\n",
    "f(4)\n",
    "a, b = f(4)\n",
    "\n",
    "t = [1, 5, 7]\n",
    "a, b, c = t"
   ]
  },
  {
   "cell_type": "markdown",
   "metadata": {},
   "source": [
    "Dictionary\n",
    "----------\n"
   ]
  },
  {
   "cell_type": "code",
   "execution_count": 115,
   "metadata": {},
   "outputs": [
    {
     "data": {
      "text/plain": [
       "20"
      ]
     },
     "execution_count": 115,
     "metadata": {},
     "output_type": "execute_result"
    }
   ],
   "source": [
    "d = {'name':'Cladé', 'age':20}\n",
    "d['age']"
   ]
  },
  {
   "cell_type": "code",
   "execution_count": 116,
   "metadata": {},
   "outputs": [
    {
     "name": "stdout",
     "output_type": "stream",
     "text": [
      "name Cladé\n",
      "age 20\n"
     ]
    }
   ],
   "source": [
    "for key, val in d.items():\n",
    "    print(key, val)"
   ]
  },
  {
   "cell_type": "code",
   "execution_count": 124,
   "metadata": {},
   "outputs": [
    {
     "name": "stdout",
     "output_type": "stream",
     "text": [
      "temperature 23\n",
      "current 5\n"
     ]
    },
    {
     "data": {
      "text/plain": [
       "70"
      ]
     },
     "execution_count": 124,
     "metadata": {},
     "output_type": "execute_result"
    }
   ],
   "source": [
    "parameters = {'temperature': 23, 'current': 5}\n",
    "parameters['temperature']\n",
    "\n",
    "for parameter_name, value in parameters.items():\n",
    "    print(parameter_name, value)\n",
    "    \n",
    "parameters['pressure'] = 1.2\n",
    "parameters\n",
    "\n",
    "#parameters['humidity']\n",
    "parameters.get('humidity', 70)"
   ]
  },
  {
   "cell_type": "markdown",
   "metadata": {},
   "source": [
    "Set\n",
    "---\n"
   ]
  },
  {
   "cell_type": "code",
   "execution_count": 127,
   "metadata": {},
   "outputs": [
    {
     "data": {
      "text/plain": [
       "{3}"
      ]
     },
     "execution_count": 127,
     "metadata": {},
     "output_type": "execute_result"
    }
   ],
   "source": [
    "a = set([1,2,3])\n",
    "b = set([3,5,6])\n",
    "\n",
    "c = a | b # union\n",
    "d = a & b # intersection\n",
    "\n",
    "d"
   ]
  },
  {
   "cell_type": "code",
   "execution_count": null,
   "metadata": {},
   "outputs": [],
   "source": [
    "pwd = input('Enter a password with at least one punctuation :')\n",
    "punctuation = set(\"?,.;:!\")\n",
    "if (punctuation & set(pwd)) == set():\n",
    "    print(\"The password should contain at least one punctuation\")"
   ]
  },
  {
   "cell_type": "code",
   "execution_count": null,
   "metadata": {
    "collapsed": true
   },
   "outputs": [],
   "source": []
  },
  {
   "cell_type": "markdown",
   "metadata": {},
   "source": [
    "Index in Python\n",
    "---------------\n",
    "\n",
    "* start:stop:step\n",
    "* slice(start, stop, step)"
   ]
  },
  {
   "cell_type": "code",
   "execution_count": 129,
   "metadata": {},
   "outputs": [
    {
     "data": {
      "text/plain": [
       "'n'"
      ]
     },
     "execution_count": 129,
     "metadata": {},
     "output_type": "execute_result"
    }
   ],
   "source": [
    "s = 'index in python'\n",
    "s[0]\n",
    "s[-1]"
   ]
  },
  {
   "cell_type": "code",
   "execution_count": 133,
   "metadata": {},
   "outputs": [
    {
     "data": {
      "text/plain": [
       "' npt'"
      ]
     },
     "execution_count": 133,
     "metadata": {},
     "output_type": "execute_result"
    }
   ],
   "source": [
    "s[5:12:2]\n",
    "s[slice(5, 12, 2)]"
   ]
  },
  {
   "cell_type": "markdown",
   "metadata": {},
   "source": [
    "None\n",
    "----\n"
   ]
  },
  {
   "cell_type": "code",
   "execution_count": 137,
   "metadata": {},
   "outputs": [
    {
     "name": "stdout",
     "output_type": "stream",
     "text": [
      "Temperature not set\n"
     ]
    }
   ],
   "source": [
    "l = [1]\n",
    "l.append(4)==None\n",
    "\n",
    "parameters = {'temperature':None, 'pressure':1.2}\n",
    "if parameters['temperature']==None:\n",
    "    print('Temperature not set')\n",
    "else:\n",
    "    print(f'Temperature is {parameters[temperature]}')"
   ]
  },
  {
   "cell_type": "markdown",
   "metadata": {},
   "source": [
    "Mutable objects / arguments in functions\n",
    "========================================\n"
   ]
  },
  {
   "cell_type": "code",
   "execution_count": 138,
   "metadata": {},
   "outputs": [],
   "source": [
    "a = 3 # Python creates the object #1 containing 3.  \n",
    "b = a + 4 # Python creates the object #2 containing 7\n",
    "c = a # The symbol c point to object #1\n",
    "a = b # The symbol a point to object #2\n",
    "c = 3.14 # The symbol c point to a third object. There is no way\n",
    "        # to point to object #1. Python can delete it.\n"
   ]
  },
  {
   "cell_type": "code",
   "execution_count": 139,
   "metadata": {},
   "outputs": [
    {
     "name": "stdout",
     "output_type": "stream",
     "text": [
      "3\n",
      "4\n",
      "4\n"
     ]
    }
   ],
   "source": [
    "a = [2,3,7]\n",
    "b = a\n",
    "print(b[1])\n",
    "a[1] = 4\n",
    "print(b[1])\n",
    "a = [5,6,7,8]\n",
    "print(b[1])"
   ]
  },
  {
   "cell_type": "code",
   "execution_count": 140,
   "metadata": {},
   "outputs": [
    {
     "name": "stdout",
     "output_type": "stream",
     "text": [
      "2\n",
      "4\n",
      "4\n"
     ]
    }
   ],
   "source": [
    "def exemple(arg):\n",
    "    print(arg[1])\n",
    "    arg[1] = 4\n",
    "    print(arg[1])\n",
    "    arg = [5,6,7,8]\n",
    "\n",
    "a = [1,2,3,4]\n",
    "exemple(a)\n",
    "print(a[1])"
   ]
  },
  {
   "cell_type": "code",
   "execution_count": 141,
   "metadata": {},
   "outputs": [
    {
     "name": "stdout",
     "output_type": "stream",
     "text": [
      "3\n"
     ]
    }
   ],
   "source": [
    "# which number is displayed ?\n",
    "a = [1,2,34,45]\n",
    "b = a\n",
    "c = a[1]\n",
    "a[2] = 1\n",
    "a[1] = 5\n",
    "print(b[2]+c)"
   ]
  },
  {
   "cell_type": "code",
   "execution_count": null,
   "metadata": {
    "collapsed": true
   },
   "outputs": [],
   "source": []
  },
  {
   "cell_type": "markdown",
   "metadata": {},
   "source": [
    "Local and global variable\n",
    "-------------------------\n"
   ]
  },
  {
   "cell_type": "code",
   "execution_count": 143,
   "metadata": {},
   "outputs": [
    {
     "data": {
      "text/plain": [
       "1.0"
      ]
     },
     "execution_count": 143,
     "metadata": {},
     "output_type": "execute_result"
    }
   ],
   "source": [
    "from math import sin, pi\n",
    "\n",
    "def sin_deg(x):\n",
    "    return sin(x*pi/180)\n",
    "\n",
    "sin_deg(90)"
   ]
  },
  {
   "cell_type": "code",
   "execution_count": 155,
   "metadata": {},
   "outputs": [
    {
     "name": "stdout",
     "output_type": "stream",
     "text": [
      "1\n",
      "4\n",
      "1\n"
     ]
    }
   ],
   "source": [
    "a = 1\n",
    "\n",
    "def f1():\n",
    "    print(a)\n",
    "    \n",
    "f1()\n",
    "\n",
    "def f2():\n",
    "    a = 4\n",
    "    print(a)\n",
    "    \n",
    "f2()\n",
    "print(a)\n",
    "\n",
    "def f3():\n",
    "    print(a)\n",
    "    a = sqrt(-1)\n",
    "    print(a)\n",
    "    \n",
    "#f3()"
   ]
  },
  {
   "cell_type": "markdown",
   "metadata": {},
   "source": [
    "The ``global`` instruction in Python\n",
    "------------------------------------\n",
    "\n",
    "Forget it !\n"
   ]
  },
  {
   "cell_type": "code",
   "execution_count": null,
   "metadata": {
    "collapsed": true
   },
   "outputs": [],
   "source": []
  },
  {
   "cell_type": "markdown",
   "metadata": {},
   "source": [
    "Control structure\n",
    "=================\n",
    "\n",
    "\n",
    "For loop\n",
    "--------\n",
    "\n",
    "* enumerate\n",
    "* zip\n"
   ]
  },
  {
   "cell_type": "code",
   "execution_count": 158,
   "metadata": {},
   "outputs": [
    {
     "name": "stdout",
     "output_type": "stream",
     "text": [
      "(1, 3)\n",
      "(3, 5)\n",
      "(4, 1)\n",
      "(7, 2)\n",
      "1 3\n",
      "3 5\n",
      "4 1\n",
      "7 2\n"
     ]
    }
   ],
   "source": [
    "X = [1,3,4,7]\n",
    "Y = [3,5,1,2]\n",
    "for tpl in zip(X,Y):\n",
    "    print(tpl)\n",
    "for x, y in zip(X,Y):\n",
    "    print(x, y)\n"
   ]
  },
  {
   "cell_type": "code",
   "execution_count": 159,
   "metadata": {},
   "outputs": [
    {
     "name": "stdout",
     "output_type": "stream",
     "text": [
      "length = 1\n",
      "length = 2\n",
      "length = 2\n",
      "length = 1\n",
      "length = 1\n",
      "length = 2\n"
     ]
    }
   ],
   "source": [
    "l = [1, 2, 4, 6, 7, 8, 10]\n",
    "for start, stop in zip(l[:-1], l[1:]):\n",
    "    print('length = {}'.format(stop-start))"
   ]
  },
  {
   "cell_type": "code",
   "execution_count": null,
   "metadata": {
    "collapsed": true
   },
   "outputs": [],
   "source": []
  },
  {
   "cell_type": "code",
   "execution_count": 162,
   "metadata": {},
   "outputs": [
    {
     "name": "stdout",
     "output_type": "stream",
     "text": [
      "True\n"
     ]
    }
   ],
   "source": [
    "m = 90382321\n",
    "from math import ceil, sqrt\n",
    "p_max = int(ceil(sqrt(m)))\n",
    "for p in range(p_max+1):\n",
    "    if p<=1:\n",
    "        continue\n",
    "    if m%p==0:\n",
    "        is_prime = False\n",
    "        break\n",
    "else:\n",
    "    is_prime = True\n",
    "print(is_prime)"
   ]
  },
  {
   "cell_type": "code",
   "execution_count": 163,
   "metadata": {},
   "outputs": [
    {
     "data": {
      "text/plain": [
       "True"
      ]
     },
     "execution_count": 163,
     "metadata": {},
     "output_type": "execute_result"
    }
   ],
   "source": [
    "def is_prime(m):\n",
    "    p_max = int(ceil(sqrt(m)))\n",
    "    for p in range(2, p_max+1):\n",
    "        if m%p==0:\n",
    "            return False\n",
    "    return True\n",
    "\n",
    "is_prime(m)\n"
   ]
  },
  {
   "cell_type": "markdown",
   "metadata": {},
   "source": [
    "Generators\n",
    "----------\n"
   ]
  },
  {
   "cell_type": "code",
   "execution_count": 164,
   "metadata": {},
   "outputs": [
    {
     "name": "stdout",
     "output_type": "stream",
     "text": [
      "A\n",
      "The values is 1\n",
      "B\n",
      "The values is 2\n",
      "C\n"
     ]
    }
   ],
   "source": [
    "def simple_generator():\n",
    "    print('A')\n",
    "    yield 1\n",
    "    print('B')\n",
    "    yield 2\n",
    "    print('C')\n",
    "\n",
    "for val in simple_generator():\n",
    "    print(f'The values is {val}')"
   ]
  },
  {
   "cell_type": "code",
   "execution_count": 165,
   "metadata": {},
   "outputs": [
    {
     "name": "stdout",
     "output_type": "stream",
     "text": [
      "1\n",
      "2\n",
      "5\n",
      "2\n",
      "6\n",
      "34\n"
     ]
    }
   ],
   "source": [
    "def concatenate(liste1, liste2):\n",
    "    for elm in liste1:\n",
    "        yield elm\n",
    "    for elm in liste2:\n",
    "        yield elm\n",
    "\n",
    "l1 = [1, 2, 5]\n",
    "l2 = [2, 6, 34]\n",
    "for val in concatenate(l1, l2):\n",
    "    print(val)"
   ]
  },
  {
   "cell_type": "code",
   "execution_count": 166,
   "metadata": {},
   "outputs": [],
   "source": [
    "def matrix_index_generator(N1, N2):\n",
    "    for i in range(N1):\n",
    "        for j in range(N2):\n",
    "            yield (i, j)"
   ]
  },
  {
   "cell_type": "code",
   "execution_count": 167,
   "metadata": {},
   "outputs": [
    {
     "name": "stdout",
     "output_type": "stream",
     "text": [
      "i=0, j=0\n",
      "i=0, j=1\n",
      "i=1, j=0\n",
      "i=1, j=1\n",
      "i=2, j=0\n",
      "i=2, j=1\n"
     ]
    }
   ],
   "source": [
    "for i,j in matrix_index_generator(3, 2):\n",
    "    print(f'i={i}, j={j}')"
   ]
  },
  {
   "cell_type": "markdown",
   "metadata": {},
   "source": [
    "Function\n",
    "--------\n",
    "\n"
   ]
  },
  {
   "cell_type": "code",
   "execution_count": 175,
   "metadata": {},
   "outputs": [],
   "source": [
    "from scipy.integrate import quad\n",
    "\n",
    "quad?"
   ]
  },
  {
   "cell_type": "code",
   "execution_count": 180,
   "metadata": {},
   "outputs": [
    {
     "data": {
      "text/plain": [
       "(-22025.465794806725, 6.239389118119916e-10)"
      ]
     },
     "execution_count": 180,
     "metadata": {},
     "output_type": "execute_result"
    }
   ],
   "source": [
    "from math import exp\n",
    "quad(exp, epsrel=1E-3, a=10, b=0, epsabs=1E-3)"
   ]
  },
  {
   "cell_type": "code",
   "execution_count": 192,
   "metadata": {},
   "outputs": [
    {
     "data": {
      "text/plain": [
       "(1.7182818284590453, 1.9076760487502457e-14)"
      ]
     },
     "execution_count": 192,
     "metadata": {},
     "output_type": "execute_result"
    }
   ],
   "source": [
    "option = {\"epsrel\":1E-3, 'limit':10}\n",
    "quad(exp, 0, 1, **option)"
   ]
  },
  {
   "cell_type": "code",
   "execution_count": 182,
   "metadata": {},
   "outputs": [
    {
     "data": {
      "text/plain": [
       "(1.7182818284590453, 1.9076760487502457e-14)"
      ]
     },
     "execution_count": 182,
     "metadata": {},
     "output_type": "execute_result"
    }
   ],
   "source": [
    "limits = (0, 1)\n",
    "quad(exp, *limits)"
   ]
  },
  {
   "cell_type": "markdown",
   "metadata": {},
   "source": [
    "### Lambda function\n"
   ]
  },
  {
   "cell_type": "code",
   "execution_count": 184,
   "metadata": {},
   "outputs": [
    {
     "data": {
      "text/plain": [
       "'f'"
      ]
     },
     "execution_count": 184,
     "metadata": {},
     "output_type": "execute_result"
    }
   ],
   "source": [
    "def f(x):\n",
    "    return 1/(1+x**2)\n",
    "\n",
    "g = f\n",
    "g.__name__"
   ]
  },
  {
   "cell_type": "code",
   "execution_count": 190,
   "metadata": {},
   "outputs": [
    {
     "data": {
      "text/plain": [
       "0.7853981633974484"
      ]
     },
     "execution_count": 190,
     "metadata": {},
     "output_type": "execute_result"
    }
   ],
   "source": [
    "(lambda x:1/(1+x**2))(1)\n",
    "quad(lambda x:1/(1+x**2), 0, 1)[0]"
   ]
  },
  {
   "cell_type": "code",
   "execution_count": 189,
   "metadata": {},
   "outputs": [
    {
     "name": "stdout",
     "output_type": "stream",
     "text": [
      "0.5\n"
     ]
    },
    {
     "data": {
      "text/plain": [
       "'<lambda>'"
      ]
     },
     "execution_count": 189,
     "metadata": {},
     "output_type": "execute_result"
    }
   ],
   "source": [
    "my_function = lambda x:1/(1+x**2)\n",
    "print(my_function(1))\n",
    "my_function.__name__"
   ]
  },
  {
   "cell_type": "markdown",
   "metadata": {},
   "source": [
    "### Variable length argument list\n"
   ]
  },
  {
   "cell_type": "code",
   "execution_count": 194,
   "metadata": {},
   "outputs": [
    {
     "name": "stdout",
     "output_type": "stream",
     "text": [
      "1 2 5\n"
     ]
    },
    {
     "data": {
      "text/plain": [
       "'1 = 10'"
      ]
     },
     "execution_count": 194,
     "metadata": {},
     "output_type": "execute_result"
    }
   ],
   "source": [
    "print(1, 2, 5)\n",
    "'{a} = {b}'.format(a=1, b=10, c=6)"
   ]
  },
  {
   "cell_type": "code",
   "execution_count": 197,
   "metadata": {},
   "outputs": [
    {
     "name": "stdout",
     "output_type": "stream",
     "text": [
      "(3, 4)\n",
      "{'e': 3}\n"
     ]
    }
   ],
   "source": [
    "def my_function(a, b, *args, **kwd):\n",
    "    print(args)\n",
    "    print(kwd)\n",
    "\n",
    "my_function(1, 2, 3, 4, e=3)"
   ]
  },
  {
   "cell_type": "code",
   "execution_count": 210,
   "metadata": {},
   "outputs": [
    {
     "name": "stdout",
     "output_type": "stream",
     "text": [
      "{'something': 3, 'anotherthing': 'Hello', 'epsrel': 1e-08}\n",
      "Hello : a=4, something=4, anotherthing=Bonjour\n"
     ]
    }
   ],
   "source": [
    "def any_function(x, **a_dict):\n",
    "    print(a_dict)\n",
    "    \n",
    "\n",
    "def a_function_with_many_args(a, something=4, \n",
    "                              anotherthing=\"Bonjour\", \n",
    "                              epsrel=1E-5):\n",
    "    print(f'Hello : a={a}, something={something}, anotherthing={anotherthing}')\n",
    "    \n",
    "    \n",
    "any_function(4, something=3, anotherthing='Hello', epsrel=1E-8)\n",
    "a_function_with_many_args(4)"
   ]
  },
  {
   "cell_type": "code",
   "execution_count": 211,
   "metadata": {},
   "outputs": [
    {
     "name": "stdout",
     "output_type": "stream",
     "text": [
      "Hello : a=4, something=19934, anotherthing=Bonjour\n"
     ]
    }
   ],
   "source": [
    "many_args = {'epsrel':5, 'something':19934}\n",
    "a_function_with_many_args(4, **many_args)"
   ]
  },
  {
   "cell_type": "code",
   "execution_count": 214,
   "metadata": {},
   "outputs": [
    {
     "name": "stdout",
     "output_type": "stream",
     "text": [
      "{'something': 3, 'anotherthing': 'Hello', 'epsrel': 1e-08}\n",
      "Hello : a=4, something=3, anotherthing=Hello\n"
     ]
    },
    {
     "data": {
      "text/plain": [
       "1"
      ]
     },
     "execution_count": 214,
     "metadata": {},
     "output_type": "execute_result"
    }
   ],
   "source": [
    "def any_function(x, **a_dict):\n",
    "    print(a_dict)\n",
    "    a_function_with_many_args(x, **a_dict)\n",
    "    \n",
    "any_function(4, something=3, anotherthing='Hello', epsrel=1E-8)\n",
    "a"
   ]
  },
  {
   "cell_type": "code",
   "execution_count": 202,
   "metadata": {},
   "outputs": [],
   "source": [
    "def erf(x, **quad_options):\n",
    "    print(quad_options)\n",
    "    return quad(lambda x:exp(-x**2), 0, x, **quad_options)[0]\n",
    "\n"
   ]
  },
  {
   "cell_type": "code",
   "execution_count": 203,
   "metadata": {},
   "outputs": [
    {
     "name": "stdout",
     "output_type": "stream",
     "text": [
      "{'epsrel': 0.0001}\n"
     ]
    },
    {
     "data": {
      "text/plain": [
       "0.7468241328124271"
      ]
     },
     "execution_count": 203,
     "metadata": {},
     "output_type": "execute_result"
    }
   ],
   "source": [
    "erf(1, epsrel=1E-4)"
   ]
  },
  {
   "cell_type": "markdown",
   "metadata": {},
   "source": [
    "Accents and non Latin letters\n",
    "============================="
   ]
  },
  {
   "cell_type": "code",
   "execution_count": 215,
   "metadata": {},
   "outputs": [],
   "source": [
    "name = \"Pierre Cladé\"\n",
    "α = 1/137.035990"
   ]
  },
  {
   "cell_type": "code",
   "execution_count": 223,
   "metadata": {},
   "outputs": [
    {
     "data": {
      "text/plain": [
       "'0x4e2d'"
      ]
     },
     "execution_count": 223,
     "metadata": {},
     "output_type": "execute_result"
    }
   ],
   "source": [
    "ord('α')\n",
    "hex(ord('中'))"
   ]
  },
  {
   "cell_type": "code",
   "execution_count": 216,
   "metadata": {},
   "outputs": [
    {
     "name": "stdout",
     "output_type": "stream",
     "text": [
      "1\n",
      "2\n"
     ]
    }
   ],
   "source": [
    "A = 1\n",
    "Α = 2\n",
    "print(A)\n",
    "print(Α)"
   ]
  },
  {
   "cell_type": "code",
   "execution_count": 217,
   "metadata": {},
   "outputs": [
    {
     "name": "stdout",
     "output_type": "stream",
     "text": [
      "b'Pierre Clad\\xe9'\n",
      "b'Pierre Clad\\xc3\\xa9'\n"
     ]
    }
   ],
   "source": [
    "print(name.encode('latin-1'))\n",
    "print(name.encode('utf-8'))"
   ]
  },
  {
   "cell_type": "code",
   "execution_count": 218,
   "metadata": {},
   "outputs": [
    {
     "data": {
      "text/plain": [
       "'α = 1/137'"
      ]
     },
     "execution_count": 218,
     "metadata": {},
     "output_type": "execute_result"
    }
   ],
   "source": [
    "\"α = 1/137\".encode('utf-8')\n",
    "b'\\xce\\xb1 = 1/137'.decode('utf-8')"
   ]
  },
  {
   "cell_type": "code",
   "execution_count": null,
   "metadata": {
    "collapsed": true
   },
   "outputs": [],
   "source": []
  },
  {
   "cell_type": "markdown",
   "metadata": {},
   "source": [
    "Files and file like objects\n",
    "===========================\n",
    "\n",
    "Files\n",
    "-----\n",
    "\n",
    "* ``write(str)`` : To write one string in the file\n",
    "\n",
    "* ``read`` : To read all the file. ``read(n)`` to read a given number of characters. \n",
    "\n",
    "* ``readline`` : read one line of the file\n",
    "\n",
    "* ``realines`` : return a list with one item per line.\n"
   ]
  },
  {
   "cell_type": "code",
   "execution_count": null,
   "metadata": {
    "collapsed": true
   },
   "outputs": [],
   "source": []
  },
  {
   "cell_type": "markdown",
   "metadata": {},
   "source": [
    "With statement\n",
    "--------------\n"
   ]
  },
  {
   "cell_type": "code",
   "execution_count": null,
   "metadata": {
    "collapsed": true
   },
   "outputs": [],
   "source": []
  },
  {
   "cell_type": "markdown",
   "metadata": {},
   "source": [
    "Json\n",
    "====\n",
    "* json.dump(obj, f)\n",
    "* json.load(f)"
   ]
  },
  {
   "cell_type": "code",
   "execution_count": null,
   "metadata": {
    "collapsed": true
   },
   "outputs": [],
   "source": [
    "import json"
   ]
  },
  {
   "cell_type": "markdown",
   "metadata": {},
   "source": [
    "Modules\n",
    "=======\n",
    "\n",
    "Creating a module\n",
    "-----------------\n",
    "\n",
    "Importing from a module\n",
    "-----------------------\n",
    "\n",
    "\n"
   ]
  },
  {
   "cell_type": "code",
   "execution_count": null,
   "metadata": {
    "collapsed": true
   },
   "outputs": [],
   "source": []
  },
  {
   "cell_type": "markdown",
   "metadata": {},
   "source": [
    "Package\n",
    "=======\n",
    "\n",
    "Installation of a package\n",
    "-------------------------\n",
    "\n",
    "Create your package\n",
    "-------------------\n",
    "\n",
    "Local import\n",
    "------------\n",
    "\n",
    "Distribute your package\n",
    "-----------------------"
   ]
  },
  {
   "cell_type": "code",
   "execution_count": null,
   "metadata": {
    "collapsed": true
   },
   "outputs": [],
   "source": []
  },
  {
   "cell_type": "code",
   "execution_count": null,
   "metadata": {
    "collapsed": true
   },
   "outputs": [],
   "source": [
    "from distutils.core import setup\n",
    "__version__ = \"alpha\"\n",
    "\n",
    "long_description=\"\"\"This is a very nice package \n",
    "\n",
    "\"\"\"\n",
    "\n",
    "setup(name='my_package',\n",
    "      version=__version__,\n",
    "      description='A very nice package',\n",
    "      author=u'François Pignon',\n",
    "      author_email='francois.pignon@trucmuch.fr',\n",
    "      url='',\n",
    "      packages=['my_package'],\n",
    "     )\n"
   ]
  },
  {
   "cell_type": "code",
   "execution_count": null,
   "metadata": {
    "collapsed": true
   },
   "outputs": [],
   "source": []
  },
  {
   "cell_type": "markdown",
   "metadata": {},
   "source": [
    "Error\n",
    "=====\n",
    "\n",
    "\n",
    "Solution of the equation : $a x^2 + b x + c = 0$\n",
    "\n",
    "$ \\Delta = b^2 - 4ac $ \n",
    "\n",
    "$ x = \\frac{-b \\pm \\sqrt{\\Delta}}{2a}$"
   ]
  },
  {
   "cell_type": "code",
   "execution_count": null,
   "metadata": {},
   "outputs": [],
   "source": [
    "from math import sin, sqrt\n",
    "\n",
    "a = sin[1]\n",
    "\n",
    "b = cos(2)\n",
    "\n",
    "a,b,c = 2,8,4\n",
    "Delta = b**1 - 4*a*c\n",
    "root1 = (-b + sqrt(Delta)/(2*a) \n",
    "root_number_2 = (-b - sqrt(Detla)/(2*a) "
   ]
  },
  {
   "cell_type": "code",
   "execution_count": null,
   "metadata": {},
   "outputs": [],
   "source": [
    "mylist = [1,2,34]\n",
    "print mylist(2)"
   ]
  },
  {
   "cell_type": "code",
   "execution_count": null,
   "metadata": {
    "collapsed": true
   },
   "outputs": [],
   "source": [
    "if 1==1:\n",
    "    print 'Hello'\n",
    "   print 'World\"\n",
    "\n",
    "if 1==1\n",
    "    print 'Hello World'"
   ]
  },
  {
   "cell_type": "code",
   "execution_count": null,
   "metadata": {
    "collapsed": true
   },
   "outputs": [],
   "source": []
  },
  {
   "cell_type": "markdown",
   "metadata": {
    "collapsed": true
   },
   "source": [
    "## Exceptions \n",
    "\n",
    "Generate you own exceptions\n",
    "\n",
    "Exemple : solution of $a x^2 + b x + c = 0$"
   ]
  },
  {
   "cell_type": "code",
   "execution_count": null,
   "metadata": {
    "collapsed": true
   },
   "outputs": [],
   "source": []
  },
  {
   "cell_type": "code",
   "execution_count": null,
   "metadata": {
    "collapsed": true
   },
   "outputs": [],
   "source": []
  },
  {
   "cell_type": "code",
   "execution_count": null,
   "metadata": {
    "collapsed": true
   },
   "outputs": [],
   "source": []
  },
  {
   "cell_type": "code",
   "execution_count": null,
   "metadata": {
    "collapsed": true
   },
   "outputs": [],
   "source": []
  },
  {
   "cell_type": "code",
   "execution_count": null,
   "metadata": {
    "collapsed": true
   },
   "outputs": [],
   "source": []
  },
  {
   "cell_type": "code",
   "execution_count": null,
   "metadata": {
    "collapsed": true
   },
   "outputs": [],
   "source": []
  },
  {
   "cell_type": "code",
   "execution_count": null,
   "metadata": {
    "collapsed": true
   },
   "outputs": [],
   "source": []
  },
  {
   "cell_type": "code",
   "execution_count": null,
   "metadata": {
    "collapsed": true
   },
   "outputs": [],
   "source": []
  },
  {
   "cell_type": "code",
   "execution_count": null,
   "metadata": {
    "collapsed": true
   },
   "outputs": [],
   "source": []
  },
  {
   "cell_type": "code",
   "execution_count": null,
   "metadata": {
    "collapsed": true
   },
   "outputs": [],
   "source": []
  },
  {
   "cell_type": "code",
   "execution_count": null,
   "metadata": {
    "collapsed": true
   },
   "outputs": [],
   "source": []
  },
  {
   "cell_type": "code",
   "execution_count": null,
   "metadata": {
    "collapsed": true
   },
   "outputs": [],
   "source": []
  },
  {
   "cell_type": "code",
   "execution_count": null,
   "metadata": {
    "collapsed": true
   },
   "outputs": [],
   "source": []
  },
  {
   "cell_type": "code",
   "execution_count": null,
   "metadata": {
    "collapsed": true
   },
   "outputs": [],
   "source": []
  },
  {
   "cell_type": "code",
   "execution_count": null,
   "metadata": {
    "collapsed": true
   },
   "outputs": [],
   "source": []
  },
  {
   "cell_type": "code",
   "execution_count": null,
   "metadata": {
    "collapsed": true
   },
   "outputs": [],
   "source": []
  },
  {
   "cell_type": "code",
   "execution_count": null,
   "metadata": {
    "collapsed": true
   },
   "outputs": [],
   "source": []
  }
 ],
 "metadata": {
  "anaconda-cloud": {},
  "kernelspec": {
   "display_name": "Python 3",
   "language": "python",
   "name": "python3"
  },
  "language_info": {
   "codemirror_mode": {
    "name": "ipython",
    "version": 3
   },
   "file_extension": ".py",
   "mimetype": "text/x-python",
   "name": "python",
   "nbconvert_exporter": "python",
   "pygments_lexer": "ipython3",
   "version": "3.8.8"
  }
 },
 "nbformat": 4,
 "nbformat_minor": 1
}
