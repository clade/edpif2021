{
 "cells": [
  {
   "cell_type": "markdown",
   "id": "a508fb48",
   "metadata": {},
   "source": [
    "# Squared numbers"
   ]
  },
  {
   "cell_type": "code",
   "execution_count": 2,
   "id": "aeec9335",
   "metadata": {},
   "outputs": [
    {
     "name": "stdout",
     "output_type": "stream",
     "text": [
      "186 ms ± 324 µs per loop (mean ± std. dev. of 7 runs, 10 loops each)\n",
      "688 µs ± 37.9 µs per loop (mean ± std. dev. of 7 runs, 1000 loops each)\n"
     ]
    }
   ],
   "source": [
    "N = 1000000\n",
    "%timeit [i**2 for i in range(1000000)]\n",
    "\n",
    "import numpy as np\n",
    "x = np.arange(N)\n",
    "%timeit x**2"
   ]
  },
  {
   "cell_type": "code",
   "execution_count": 3,
   "id": "cbd50d90",
   "metadata": {},
   "outputs": [
    {
     "data": {
      "text/plain": [
       "array([           0,            1,            4, ..., 999994000009,\n",
       "       999996000004, 999998000001])"
      ]
     },
     "execution_count": 3,
     "metadata": {},
     "output_type": "execute_result"
    }
   ],
   "source": [
    "x**2"
   ]
  },
  {
   "cell_type": "code",
   "execution_count": 4,
   "id": "cdf97007",
   "metadata": {},
   "outputs": [
    {
     "data": {
      "text/plain": [
       "dtype('int64')"
      ]
     },
     "execution_count": 4,
     "metadata": {},
     "output_type": "execute_result"
    }
   ],
   "source": [
    "x.dtype"
   ]
  },
  {
   "cell_type": "code",
   "execution_count": 8,
   "id": "5b610433",
   "metadata": {},
   "outputs": [
    {
     "name": "stdout",
     "output_type": "stream",
     "text": [
      "184 µs ± 1.6 µs per loop (mean ± std. dev. of 7 runs, 10000 loops each)\n",
      "[         0          1          4 ... -733379959 -731379964 -729379967]\n"
     ]
    }
   ],
   "source": [
    "x = np.arange(N, dtype='int32')\n",
    "%timeit x**2\n",
    "print(x**2)"
   ]
  },
  {
   "cell_type": "markdown",
   "id": "be2f10c6",
   "metadata": {},
   "source": [
    "## 1.2 Calculation of pi"
   ]
  },
  {
   "cell_type": "code",
   "execution_count": 11,
   "id": "ad09aff8",
   "metadata": {},
   "outputs": [
    {
     "data": {
      "text/plain": [
       "3.1415926535897936"
      ]
     },
     "execution_count": 11,
     "metadata": {},
     "output_type": "execute_result"
    }
   ],
   "source": [
    "k = np.arange(30)\n",
    "\n",
    "np.sum((-1)**k/(3**k * (2*k+1)))*np.sqrt(12)"
   ]
  },
  {
   "cell_type": "markdown",
   "id": "550a8496",
   "metadata": {},
   "source": [
    "## 1.3 Allan variance"
   ]
  },
  {
   "cell_type": "code",
   "execution_count": 27,
   "id": "df1f59ce",
   "metadata": {},
   "outputs": [],
   "source": [
    "N = 1000000\n",
    "y = np.random.normal(size=N)\n",
    "\n",
    "def simple_allan_variance(y):\n",
    "    delta_y = y[1:] - y[:-1]\n",
    "    return np.mean(delta_y**2)/2"
   ]
  },
  {
   "cell_type": "code",
   "execution_count": 26,
   "id": "a0b14785",
   "metadata": {},
   "outputs": [
    {
     "data": {
      "text/plain": [
       "array([0.5, 2.5, 4.5, 6.5, 8.5])"
      ]
     },
     "execution_count": 26,
     "metadata": {},
     "output_type": "execute_result"
    }
   ],
   "source": [
    "def average_frequency(data, n):\n",
    "    if len(data)%n!=0:\n",
    "        data = data[len(data)%n:]\n",
    "    N = len(data)\n",
    "    data = data.reshape(N//n, n)\n",
    "    return data.mean(axis=1)\n",
    "    \n",
    "average_frequency(np.arange(10), 2)"
   ]
  },
  {
   "cell_type": "code",
   "execution_count": 28,
   "id": "43d29ea0",
   "metadata": {},
   "outputs": [],
   "source": [
    "def AllanVariance(data, n):\n",
    "    data_mean = average_frequency(data, n)\n",
    "    return simple_allan_variance(data_mean)"
   ]
  },
  {
   "cell_type": "code",
   "execution_count": 29,
   "id": "2a8b33b9",
   "metadata": {},
   "outputs": [
    {
     "data": {
      "text/plain": [
       "0.10030750319045134"
      ]
     },
     "execution_count": 29,
     "metadata": {},
     "output_type": "execute_result"
    }
   ],
   "source": [
    "AllanVariance(y, 10)"
   ]
  },
  {
   "cell_type": "markdown",
   "id": "dfc7639c",
   "metadata": {},
   "source": [
    "## 1.4 Mandelbrot"
   ]
  },
  {
   "cell_type": "code",
   "execution_count": 49,
   "id": "92d86826",
   "metadata": {},
   "outputs": [],
   "source": [
    "def mandel_simple(c, N=256):\n",
    "    z = 0\n",
    "    for i in range(N):\n",
    "        z = z**2 + c\n",
    "        if np.abs(z)>2:\n",
    "            return i\n",
    "    return 0\n",
    "\n",
    "mandel_simple(.5+.5J)\n",
    "\n",
    "import numba\n",
    "\n",
    "mandel = numba.vectorize(mandel_simple)"
   ]
  },
  {
   "cell_type": "code",
   "execution_count": 51,
   "id": "dc199d17",
   "metadata": {},
   "outputs": [],
   "source": [
    "x = np.linspace(-2.13, 0.77, 201)\n",
    "y = np.linspace(-1.13, 1.13, 201)\n",
    "\n",
    "X, Y = np.meshgrid(x, y)\n",
    "\n",
    "c = X + 1J*Y\n",
    "\n",
    "res = mandel(c, 100)"
   ]
  },
  {
   "cell_type": "code",
   "execution_count": 52,
   "id": "012f4ca5",
   "metadata": {},
   "outputs": [
    {
     "data": {
      "text/plain": [
       "<matplotlib.colorbar.Colorbar at 0x7fbf16de7dc0>"
      ]
     },
     "execution_count": 52,
     "metadata": {},
     "output_type": "execute_result"
    },
    {
     "data": {
      "image/png": "[encoded data removed]",
      "text/plain": [
       "<Figure size 432x288 with 2 Axes>"
      ]
     },
     "metadata": {
      "needs_background": "light"
     },
     "output_type": "display_data"
    }
   ],
   "source": [
    "import matplotlib.pyplot as plt\n",
    "\n",
    "plt.imshow(res, cmap='jet')\n",
    "plt.colorbar()"
   ]
  },
  {
   "cell_type": "code",
   "execution_count": 54,
   "id": "8ca1a844",
   "metadata": {},
   "outputs": [
    {
     "name": "stdout",
     "output_type": "stream",
     "text": [
      "CPU times: user 12.3 ms, sys: 5 µs, total: 12.3 ms\n",
      "Wall time: 10.7 ms\n"
     ]
    },
    {
     "data": {
      "text/plain": [
       "array([[0, 0, 0, ..., 1, 1, 1],\n",
       "       [0, 0, 0, ..., 1, 1, 1],\n",
       "       [0, 0, 0, ..., 1, 1, 1],\n",
       "       ...,\n",
       "       [0, 0, 0, ..., 1, 1, 1],\n",
       "       [0, 0, 0, ..., 1, 1, 1],\n",
       "       [0, 0, 0, ..., 1, 1, 1]])"
      ]
     },
     "execution_count": 54,
     "metadata": {},
     "output_type": "execute_result"
    }
   ],
   "source": [
    "%time mandel(c, 100)"
   ]
  },
  {
   "cell_type": "code",
   "execution_count": 55,
   "id": "b35e8546",
   "metadata": {},
   "outputs": [
    {
     "data": {
      "text/plain": [
       "['.~lock.my_array.txt#',\n",
       " 'data.csv',\n",
       " 'large_file.txt',\n",
       " 'exo_numpy.ipynb',\n",
       " 'Numpy.ipynb',\n",
       " 'my_array.txt',\n",
       " '.~lock.data.csv#',\n",
       " 'Graphics.ipynb',\n",
       " 'my_graph.pdf',\n",
       " 'Scipy.ipynb',\n",
       " '.ipynb_checkpoints',\n",
       " 'large_file.npy',\n",
       " 'beyond_numpy.ipynb',\n",
       " 'my_graph.svg']"
      ]
     },
     "execution_count": 55,
     "metadata": {},
     "output_type": "execute_result"
    }
   ],
   "source": [
    "import os\n",
    "\n",
    "for filename in os.listdir('.'):\n",
    "    my array = data_analysis(filename)\n",
    "    np.save('arrays/'+filename[:-3]+'.npy', my_array)"
   ]
  },
  {
   "cell_type": "code",
   "execution_count": null,
   "id": "a515898b",
   "metadata": {},
   "outputs": [],
   "source": []
  }
 ],
 "metadata": {
  "kernelspec": {
   "display_name": "Python 3",
   "language": "python",
   "name": "python3"
  },
  "language_info": {
   "codemirror_mode": {
    "name": "ipython",
    "version": 3
   },
   "file_extension": ".py",
   "mimetype": "text/x-python",
   "name": "python",
   "nbconvert_exporter": "python",
   "pygments_lexer": "ipython3",
   "version": "3.8.8"
  }
 },
 "nbformat": 4,
 "nbformat_minor": 5
}
