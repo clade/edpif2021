{
 "cells": [
  {
   "cell_type": "code",
   "execution_count": 63,
   "metadata": {},
   "outputs": [],
   "source": [
    "from math import pi\n",
    "\n",
    "class BipolarCircuit(object):\n",
    "    def __add__(self, other):\n",
    "        if isinstance(other, BipolarCircuit):\n",
    "            return Serial(self, other)\n",
    "        return NotImplemented\n",
    "    \n",
    "    def __or__(self, other):\n",
    "        if isinstance(other, BipolarCircuit):\n",
    "            return Parallel(self, other)\n",
    "        return NotImplemented        \n",
    "    \n",
    "    \n",
    "    def impedance(self, freq):\n",
    "        raise Exception('The impedance method shoulb implemented for the class {self.__class__.__name___}')\n",
    "\n",
    "class Combination(BipolarCircuit):\n",
    "    def __init__(self, *args):\n",
    "        for item in args:\n",
    "            assert isinstance(item, BipolarCircuit)\n",
    "        self.args = args\n",
    "\n",
    "    def __repr__(self):\n",
    "        all_circuits = ', '.join([repr(circ) for circ in self.args])\n",
    "        return f'{self.__class__.__name__}({all_circuits})'        \n",
    "        \n",
    "class Serial(Combination):        \n",
    "    def impedance(self, freq):\n",
    "        all_child_impedance = [item.impedance(freq) for item in self.args]\n",
    "        return sum(all_child_impedance)\n",
    "    \n",
    "class Parallel(Combination):\n",
    "    def impedance(self, freq):\n",
    "        all_child_admittance = [1/item.impedance(freq) for item in self.args]\n",
    "        return 1/sum(all_child_admittance)\n",
    "\n",
    "class Device(BipolarCircuit):\n",
    "    def __init__(self, value):\n",
    "        self.value = value\n",
    "\n",
    "    def __repr__(self):\n",
    "        return f'{self.__class__.__name__}({self.value})'\n",
    "\n",
    "        \n",
    "class Resistor(Device):\n",
    "    def impedance(self, freq):\n",
    "        return self.value\n",
    "    \n",
    "class Capacitor(Device):\n",
    "    def impedance(self, freq):\n",
    "        return 1/(1J*2*pi*freq*self.value)\n",
    "\n",
    "class Inductor(Device):        \n",
    "    def impedance(self, freq):\n",
    "        return (1J*2*pi*freq*self.value)\n",
    "    \n",
    "# idem for capacitor and inductor"
   ]
  },
  {
   "cell_type": "code",
   "execution_count": 64,
   "metadata": {},
   "outputs": [
    {
     "data": {
      "text/plain": [
       "Resistor(10)"
      ]
     },
     "execution_count": 64,
     "metadata": {},
     "output_type": "execute_result"
    }
   ],
   "source": [
    "# Create the Resistor class\n",
    "# Then the Capacitor and Inductor\n",
    "# This should work\n",
    "\n",
    "R1 = Resistor(10)\n",
    "R1 # => Resistor(10)"
   ]
  },
  {
   "cell_type": "code",
   "execution_count": 65,
   "metadata": {},
   "outputs": [
    {
     "data": {
      "text/plain": [
       "Capacitor(1e-05)"
      ]
     },
     "execution_count": 65,
     "metadata": {},
     "output_type": "execute_result"
    }
   ],
   "source": [
    "C1 = Capacitor(10E-6)\n",
    "C1"
   ]
  },
  {
   "cell_type": "code",
   "execution_count": 66,
   "metadata": {},
   "outputs": [
    {
     "data": {
      "text/plain": [
       "Serial(Parallel(Parallel(Resistor(10), Capacitor(1e-05)), Inductor(1.5e-05)), Resistor(5))"
      ]
     },
     "execution_count": 66,
     "metadata": {},
     "output_type": "execute_result"
    }
   ],
   "source": [
    "my_circuit = Serial(Parallel(Resistor(10),Capacitor(1E-5),Inductor(15E-6)),\n",
    "                Resistor(5))\n",
    "my_circuit = (Resistor(10)|Capacitor(1E-5)|Inductor(15E-6))+Resistor(5)\n",
    "\n",
    "my_circuit"
   ]
  },
  {
   "cell_type": "code",
   "execution_count": 67,
   "metadata": {},
   "outputs": [
    {
     "data": {
      "image/png": "[encoded data removed]",
      "text/plain": [
       "<Figure size 432x288 with 1 Axes>"
      ]
     },
     "metadata": {
      "needs_background": "light"
     },
     "output_type": "display_data"
    }
   ],
   "source": [
    "%matplotlib inline\n",
    "import numpy as np\n",
    "from matplotlib.pyplot import figure\n",
    "\n",
    "fig = figure()\n",
    "ax = fig.subplots(1, 1)\n",
    "\n",
    "\n",
    "Tfreq = np.logspace(3, 7, 201)\n",
    "ax.loglog(Tfreq, np.abs(my_circuit.impedance(Tfreq)))\n",
    "ax.grid()"
   ]
  },
  {
   "cell_type": "code",
   "execution_count": null,
   "metadata": {},
   "outputs": [],
   "source": []
  }
 ],
 "metadata": {
  "kernelspec": {
   "display_name": "Python 3",
   "language": "python",
   "name": "python3"
  },
  "language_info": {
   "codemirror_mode": {
    "name": "ipython",
    "version": 3
   },
   "file_extension": ".py",
   "mimetype": "text/x-python",
   "name": "python",
   "nbconvert_exporter": "python",
   "pygments_lexer": "ipython3",
   "version": "3.7.4"
  }
 },
 "nbformat": 4,
 "nbformat_minor": 2
}
