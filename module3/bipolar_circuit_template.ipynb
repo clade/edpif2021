{
 "cells": [
  {
   "cell_type": "code",
   "execution_count": null,
   "metadata": {},
   "outputs": [],
   "source": [
    "from math import pi\n",
    "\n",
    "class BipolarCircuit(object):\n",
    "    pass\n",
    "    \n",
    "class Combination(BipolarCircuit):\n",
    "    pass\n",
    "\n",
    "\n",
    "class Serial(Combination):        \n",
    "    pass\n",
    "\n",
    "    \n",
    "class Parallel(Combination):\n",
    "    pass\n",
    "\n",
    "class Device(BipolarCircuit):\n",
    "    pass\n",
    "        \n",
    "class Resistor(Device):\n",
    "    pass\n",
    "    \n",
    "# idem for capacitor and inductor"
   ]
  },
  {
   "cell_type": "code",
   "execution_count": null,
   "metadata": {},
   "outputs": [],
   "source": [
    "# Create the Resistor class\n",
    "# Then the Capacitor and Inductor\n",
    "# This should work\n",
    "\n",
    "R1 = Resistor(10)\n",
    "R1 # => Resistor(10)"
   ]
  },
  {
   "cell_type": "code",
   "execution_count": null,
   "metadata": {},
   "outputs": [],
   "source": [
    "my_circuit = Serial(Parallel(Resistor(10),Capacitor(1E-5),Inductor(15E-6)),\n",
    "                Resistor(5))\n",
    "my_circuit = (Resistor(10)|Capacitor(1E-5)|Inductor(15E-6))+Resistor(5)\n",
    "\n",
    "my_circuit"
   ]
  },
  {
   "cell_type": "code",
   "execution_count": null,
   "metadata": {},
   "outputs": [],
   "source": [
    "%matplotlib inline\n",
    "import numpy as np\n",
    "from matplotlib.pyplot import figure\n",
    "\n",
    "fig = figure()\n",
    "ax = fig.subplots(1, 1)\n",
    "\n",
    "\n",
    "Tfreq = np.logspace(3, 7, 201)\n",
    "ax.loglog(Tfreq, np.abs(my_circuit.impedance(Tfreq)))\n",
    "ax.grid()"
   ]
  },
  {
   "cell_type": "code",
   "execution_count": null,
   "metadata": {},
   "outputs": [],
   "source": []
  }
 ],
 "metadata": {
  "kernelspec": {
   "display_name": "Python 3",
   "language": "python",
   "name": "python3"
  },
  "language_info": {
   "codemirror_mode": {
    "name": "ipython",
    "version": 3
   },
   "file_extension": ".py",
   "mimetype": "text/x-python",
   "name": "python",
   "nbconvert_exporter": "python",
   "pygments_lexer": "ipython3",
   "version": "3.8.8"
  }
 },
 "nbformat": 4,
 "nbformat_minor": 2
}
