{
 "cells": [
  {
   "cell_type": "markdown",
   "metadata": {},
   "source": [
    "# Object in Python\n",
    "\n",
    "* Everything is an object\n",
    "* We can create our own objects"
   ]
  },
  {
   "cell_type": "code",
   "execution_count": 111,
   "metadata": {},
   "outputs": [],
   "source": [
    "from math import sqrt, atan2, cos, sin, pi\n",
    "class Complex:\n",
    "    def __init__(self, re_part, im_part):\n",
    "        self.re = re_part\n",
    "        self.im = im_part\n",
    "\n",
    "    def conjugate(self):\n",
    "        output = Complex(self.re, -self.im)\n",
    "        return output\n",
    "\n",
    "    def __str__(self):\n",
    "        if self.im>=0:\n",
    "            return '{re} + {im}J'.format(re=self.re, \n",
    "                                             im=self.im)\n",
    "        else:\n",
    "            return '{re} - {im}J'.format(re=self.re, \n",
    "                                             im=-self.im)\n",
    "    def __repr__(self):\n",
    "        return f'Complex({self.re}, {self.im})'\n",
    "    \n",
    "    def __eq__(self, other):\n",
    "        if isinstance(other, (float, int)):\n",
    "            return self.im==0 and self.re==other\n",
    "        return self.re==other.re and self.im==other.im\n",
    "\n",
    "    @staticmethod\n",
    "    def _convert_to_complex(other):\n",
    "        if isinstance(other, (float, int)):\n",
    "            return Complex(other, 0)\n",
    "        return other\n",
    "        \n",
    "    def __add__(self, other):\n",
    "        other = self._convert_to_complex(other)\n",
    "        if isinstance(other, Complex):\n",
    "            return Complex(self.re + other.re, self.im + other.im)\n",
    "        return NotImplemented\n",
    "    \n",
    "    def __sub__(self, other):\n",
    "        other = self._convert_to_complex(other)\n",
    "        if isinstance(other, Complex):\n",
    "            return Complex(self.re - other.re, self.im - other.im)    \n",
    "        return NotImplemented\n",
    "    \n",
    "    def __mul__(self, other):\n",
    "        other = self._convert_to_complex(other)\n",
    "        if isinstance(other, Complex):\n",
    "            return Complex(self.re*other.re - self.im*other.im , \n",
    "                       self.im*other.re + self.re*other.im)   \n",
    "        return NotImplemented\n",
    "\n",
    "    def __truediv__(self, other):\n",
    "        other = self._convert_to_complex(other)\n",
    "        if isinstance(other, Complex):\n",
    "            return from_polar(self.r/other.r, self.theta-other.theta)\n",
    "        return NotImplemented\n",
    "    \n",
    "    def __rmul__(self, other):\n",
    "        return self * other\n",
    "    \n",
    "    @property\n",
    "    def r(self):\n",
    "        return sqrt(self.re**2 + self.im**2)\n",
    "\n",
    "    @property\n",
    "    def theta(self):\n",
    "        return atan2(self.im, self.re)\n",
    "\n",
    "def from_polar(r, theta):\n",
    "    return Complex(r*cos(theta), r*sin(theta))\n",
    "\n",
    "class PureImaginary(Complex):\n",
    "    def __init__(self, im):\n",
    "        #self.im = im\n",
    "        #self.re = 0\n",
    "        Complex.__init__(self, 0, im)\n",
    "    \n",
    "    def __str__(self):\n",
    "        return f'{self.im}J'"
   ]
  },
  {
   "cell_type": "code",
   "execution_count": 103,
   "metadata": {},
   "outputs": [
    {
     "name": "stdout",
     "output_type": "stream",
     "text": [
      "4J\n"
     ]
    },
    {
     "data": {
      "text/plain": [
       "Complex(2, 4)"
      ]
     },
     "execution_count": 103,
     "metadata": {},
     "output_type": "execute_result"
    }
   ],
   "source": [
    "z = PureImaginary(4)\n",
    "print(z)\n",
    "isinstance(z, Complex)\n",
    "z + 2"
   ]
  },
  {
   "cell_type": "code",
   "execution_count": 98,
   "metadata": {},
   "outputs": [
    {
     "data": {
      "text/plain": [
       "Complex(0.5384615384615384, 0.30769230769230765)"
      ]
     },
     "execution_count": 98,
     "metadata": {},
     "output_type": "execute_result"
    }
   ],
   "source": [
    "z1 = Complex(1, 2)\n",
    "z2 = Complex(3, 2)\n",
    "z1/z2"
   ]
  },
  {
   "cell_type": "code",
   "execution_count": 97,
   "metadata": {},
   "outputs": [
    {
     "data": {
      "text/plain": [
       "Complex(0.7071067811865476, 0.7071067811865475)"
      ]
     },
     "execution_count": 97,
     "metadata": {},
     "output_type": "execute_result"
    }
   ],
   "source": [
    "from_polar(1, pi/4)"
   ]
  },
  {
   "cell_type": "code",
   "execution_count": 92,
   "metadata": {},
   "outputs": [
    {
     "data": {
      "text/plain": [
       "1.1071487177940904"
      ]
     },
     "execution_count": 92,
     "metadata": {},
     "output_type": "execute_result"
    }
   ],
   "source": [
    "z1 = Complex(1, 2)\n",
    "\n",
    "z1.r\n",
    "z1.theta"
   ]
  },
  {
   "cell_type": "code",
   "execution_count": 85,
   "metadata": {},
   "outputs": [
    {
     "data": {
      "text/plain": [
       "Complex(2, 4)"
      ]
     },
     "execution_count": 85,
     "metadata": {},
     "output_type": "execute_result"
    }
   ],
   "source": [
    "z1 = Complex(1, 2)\n",
    "2*z1"
   ]
  },
  {
   "cell_type": "code",
   "execution_count": 86,
   "metadata": {},
   "outputs": [
    {
     "data": {
      "text/plain": [
       "Complex(4, 4)"
      ]
     },
     "execution_count": 86,
     "metadata": {},
     "output_type": "execute_result"
    }
   ],
   "source": [
    "z1 = Complex(1, 2)\n",
    "z2 = Complex(3, 2)\n",
    "z1+z2"
   ]
  },
  {
   "cell_type": "code",
   "execution_count": 74,
   "metadata": {},
   "outputs": [
    {
     "data": {
      "text/plain": [
       "Complex(-1, 8)"
      ]
     },
     "execution_count": 74,
     "metadata": {},
     "output_type": "execute_result"
    }
   ],
   "source": [
    "z1 * z2"
   ]
  },
  {
   "cell_type": "code",
   "execution_count": 56,
   "metadata": {},
   "outputs": [
    {
     "data": {
      "text/plain": [
       "True"
      ]
     },
     "execution_count": 56,
     "metadata": {},
     "output_type": "execute_result"
    }
   ],
   "source": [
    "z = Complex(1, 0)\n",
    "1==z"
   ]
  },
  {
   "cell_type": "code",
   "execution_count": 48,
   "metadata": {},
   "outputs": [
    {
     "data": {
      "text/plain": [
       "True"
      ]
     },
     "execution_count": 48,
     "metadata": {},
     "output_type": "execute_result"
    }
   ],
   "source": [
    "z1 = Complex(1, 2)\n",
    "z2 = Complex(1, 2)\n",
    "z1==z2"
   ]
  },
  {
   "cell_type": "code",
   "execution_count": null,
   "metadata": {},
   "outputs": [],
   "source": []
  },
  {
   "cell_type": "code",
   "execution_count": 42,
   "metadata": {},
   "outputs": [
    {
     "data": {
      "text/plain": [
       "True"
      ]
     },
     "execution_count": 42,
     "metadata": {},
     "output_type": "execute_result"
    }
   ],
   "source": [
    "z = Complex(1, 4)\n",
    "isinstance(z, Complex)"
   ]
  },
  {
   "cell_type": "code",
   "execution_count": 43,
   "metadata": {},
   "outputs": [
    {
     "data": {
      "text/plain": [
       "-3"
      ]
     },
     "execution_count": 43,
     "metadata": {},
     "output_type": "execute_result"
    }
   ],
   "source": [
    "z = Complex(1, 3)\n",
    "\n",
    "z_conj = z.conjugate()\n",
    "z_conj.imag"
   ]
  },
  {
   "cell_type": "code",
   "execution_count": 44,
   "metadata": {},
   "outputs": [
    {
     "name": "stdout",
     "output_type": "stream",
     "text": [
      "1 - 3J\n"
     ]
    }
   ],
   "source": [
    "print(z_conj)"
   ]
  },
  {
   "cell_type": "code",
   "execution_count": 45,
   "metadata": {},
   "outputs": [
    {
     "data": {
      "text/plain": [
       "Complex(1, -3)"
      ]
     },
     "execution_count": 45,
     "metadata": {},
     "output_type": "execute_result"
    }
   ],
   "source": [
    "z_conj"
   ]
  },
  {
   "cell_type": "code",
   "execution_count": 39,
   "metadata": {},
   "outputs": [
    {
     "name": "stdout",
     "output_type": "stream",
     "text": [
      "[0 1 2 3 4]\n"
     ]
    },
    {
     "data": {
      "text/plain": [
       "array([0, 1, 2, 3, 4])"
      ]
     },
     "execution_count": 39,
     "metadata": {},
     "output_type": "execute_result"
    }
   ],
   "source": [
    "import numpy as np\n",
    "a = np.arange(5)\n",
    "print(a)\n",
    "a"
   ]
  },
  {
   "cell_type": "code",
   "execution_count": 40,
   "metadata": {},
   "outputs": [
    {
     "data": {
      "text/plain": [
       "array([0, 1, 2, 3, 4])"
      ]
     },
     "execution_count": 40,
     "metadata": {},
     "output_type": "execute_result"
    }
   ],
   "source": [
    "np.array([0, 1, 2, 3, 4])"
   ]
  },
  {
   "cell_type": "code",
   "execution_count": null,
   "metadata": {},
   "outputs": [],
   "source": []
  },
  {
   "cell_type": "code",
   "execution_count": 110,
   "metadata": {},
   "outputs": [
    {
     "data": {
      "text/plain": [
       "<function __main__.Complex.__init__(self, re_part, im_part)>"
      ]
     },
     "execution_count": 110,
     "metadata": {},
     "output_type": "execute_result"
    }
   ],
   "source": [
    "class Test:\n",
    "    b = 4\n",
    "    def __init__(self, a):\n",
    "        self.a = a\n",
    "        \n",
    "t = Test(3)\n",
    "t.a\n",
    "t.b\n",
    "Test.b\n",
    "\n",
    "Complex.__init__"
   ]
  },
  {
   "cell_type": "code",
   "execution_count": null,
   "metadata": {},
   "outputs": [],
   "source": []
  },
  {
   "cell_type": "code",
   "execution_count": null,
   "metadata": {},
   "outputs": [],
   "source": []
  },
  {
   "cell_type": "code",
   "execution_count": null,
   "metadata": {},
   "outputs": [],
   "source": []
  },
  {
   "cell_type": "code",
   "execution_count": null,
   "metadata": {},
   "outputs": [],
   "source": []
  },
  {
   "cell_type": "code",
   "execution_count": 132,
   "metadata": {},
   "outputs": [],
   "source": [
    "def multiplication(a, b):\n",
    "    out = a.__mul__(b)\n",
    "    if out!=NotImplemented:\n",
    "        return out\n",
    "    out = b.__rmul__(a)\n",
    "    if out!=NotImplemented:\n",
    "        return out\n",
    "    raise Exception('Cannot multipliy {} by {}'.format(type(a), type(b))\n",
    "                   )\n",
    "    "
   ]
  },
  {
   "cell_type": "code",
   "execution_count": 137,
   "metadata": {},
   "outputs": [
    {
     "data": {
      "text/plain": [
       "Complex(10, 0)"
      ]
     },
     "execution_count": 137,
     "metadata": {},
     "output_type": "execute_result"
    }
   ],
   "source": [
    "multiplication(z, z.conjugate())"
   ]
  },
  {
   "cell_type": "code",
   "execution_count": null,
   "metadata": {},
   "outputs": [],
   "source": []
  },
  {
   "cell_type": "markdown",
   "metadata": {},
   "source": [
    "### Special methods\n",
    "\n",
    "* `__init__`\n",
    "* `__repr__`, `__str__`\n",
    "\n",
    "\n",
    "Unary and binary operator\n",
    "* `__neg__`\n",
    "* `__add__`, `__sub__`, `__mul__`, `__truediv__`, `__mod__`, `__pow__`\n",
    "* `__radd__`, ...\n",
    "* `__eq__` (==), `__ne__` (!=), `__lt__` (<), `__le__` (<=), `__gt__`, `__ge__`\n",
    "* `__or__`, `__and__`, `__xor__`\n",
    "\n",
    "\n",
    "Containers emulation\n",
    "* a[key] => `a.__getitem__(key)`\n",
    "* a[key] = val => `a.__setitem__(key, val)`\n",
    "* del a[key] => `a.__delitem__(key)`\n",
    "* len(a) => `a.__len__()`\n",
    "* for elm in a => `for elm in a.__iter__()`\n",
    "\n",
    "### Attributes and property\n",
    "* Class attributes and object attributes\n",
    "* property\n",
    "\n",
    "### Heritage\n",
    "* isinstance \n",
    "\n",
    "### Dataclasses\n",
    "* Object with atributes set automatically in the ``__init__`` : https://docs.python.org/3/library/dataclasses.html"
   ]
  },
  {
   "cell_type": "code",
   "execution_count": 6,
   "metadata": {},
   "outputs": [],
   "source": [
    "class Music:\n",
    "    def __init__(self):\n",
    "        self.durations = []\n",
    "        self.frequencies = []\n",
    "    \n",
    "    def append(self, frequency, duration):\n",
    "        self.durations.append(duration)\n",
    "        self.frequencies.append(frequency)\n",
    "        \n",
    "    def __getitem__(self, key):\n",
    "        return self.frequencies[key], self.durations[key]\n",
    "    \n",
    "    def __len__(self):\n",
    "        return len(self.frequencies)\n",
    "\n",
    "    def __iter__(self):\n",
    "        return zip(self.frequencies, self.durations)\n",
    "    \n",
    "    def __call__(self, arg1):\n",
    "        print('HELLO', arg1)"
   ]
  },
  {
   "cell_type": "code",
   "execution_count": 7,
   "metadata": {},
   "outputs": [
    {
     "name": "stdout",
     "output_type": "stream",
     "text": [
      "440 0.5\n",
      "550 0.5\n",
      "HELLO poeipsipfoisdf\n"
     ]
    }
   ],
   "source": [
    "my_music = Music()\n",
    "my_music.append(440, .5)\n",
    "my_music.append(550, .5)\n",
    "\n",
    "my_music[0]\n",
    "\n",
    "for freq, dur in my_music:\n",
    "    print(freq, dur)\n",
    "    \n",
    "my_music('poeipsipfoisdf')"
   ]
  },
  {
   "cell_type": "code",
   "execution_count": null,
   "metadata": {},
   "outputs": [],
   "source": []
  },
  {
   "cell_type": "code",
   "execution_count": 2,
   "metadata": {},
   "outputs": [
    {
     "data": {
      "text/plain": [
       "{'a': 0, 'b': 3.14}"
      ]
     },
     "execution_count": 2,
     "metadata": {},
     "output_type": "execute_result"
    }
   ],
   "source": [
    "import dataclasses\n",
    "\n",
    "@dataclasses.dataclass\n",
    "class MyClass(object):\n",
    "    a : int = 0\n",
    "    b : float = 0.0\n",
    "\n",
    "c = MyClass(b=3.14)\n"
   ]
  },
  {
   "cell_type": "code",
   "execution_count": null,
   "metadata": {},
   "outputs": [],
   "source": []
  }
 ],
 "metadata": {
  "kernelspec": {
   "display_name": "Python 3",
   "language": "python",
   "name": "python3"
  },
  "language_info": {
   "codemirror_mode": {
    "name": "ipython",
    "version": 3
   },
   "file_extension": ".py",
   "mimetype": "text/x-python",
   "name": "python",
   "nbconvert_exporter": "python",
   "pygments_lexer": "ipython3",
   "version": "3.8.8"
  }
 },
 "nbformat": 4,
 "nbformat_minor": 2
}
