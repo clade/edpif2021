{
 "cells": [
  {
   "cell_type": "code",
   "execution_count": 58,
   "id": "28143380",
   "metadata": {},
   "outputs": [],
   "source": [
    "class Book:\n",
    "    def __init__(self, title, author, year, key=None):\n",
    "        self.title = title\n",
    "        self.author = author\n",
    "        self.year = year\n",
    "        if key is None:\n",
    "            key = self._create_key()\n",
    "        self.key = key\n",
    "    \n",
    "    def _create_key(self):\n",
    "        last_name = self.author.split(' ')[-1]\n",
    "        return f'{last_name}{self.year}'\n",
    "        \n",
    "    def __repr__(self):\n",
    "#        return f'{self.title!r}, {self.author!r}, {self.year}'\n",
    "        return f'Book({self.title!r}, {self.author!r}, {self.year}, key={self.key!r})'    \n",
    "\n",
    "    def to_latex(self):\n",
    "        return fr\"\"\"\\bibitem{{{self.key}}}\n",
    "{self.author} ({self.year}) \\emph{{{self.title}}}\"\"\"\n",
    "\n",
    "class Bibliography:\n",
    "    def __init__(self, list_of_book):\n",
    "        self.list_of_book = list_of_book\n",
    "        \n",
    "    def __repr__(self):\n",
    "        return f'Bibliography({self.list_of_book!r})'\n",
    "    \n",
    "    def to_latex(self):\n",
    "        s = [book.to_latex() for book in self.list_of_book]\n",
    "        s = '\\n\\n'.join(s)\n",
    "        return fr\"\"\"\\begin{{thebibliography}}{{9}}\n",
    "{s}\n",
    "\\end{{thebibliography}}\n",
    "        \"\"\"\n",
    "    \n",
    "    def filter_by_year(self, the_year):\n",
    "        return Bibliography([book for book in self.list_of_book\n",
    "                                    if book.year==the_year])\n",
    "    \n",
    "    @property\n",
    "    def number_of_books(self):\n",
    "        return len(self.list_of_book)"
   ]
  },
  {
   "cell_type": "code",
   "execution_count": 59,
   "id": "d79e726a",
   "metadata": {},
   "outputs": [
    {
     "name": "stdout",
     "output_type": "stream",
     "text": [
      "Book('A very nice book', 'F. Dupont', 2014, key='Dupont2014')\n",
      "\\bibitem{Dupont2014}\n",
      "F. Dupont (2014) \\emph{A very nice book}\n"
     ]
    }
   ],
   "source": [
    "book1 = Book(\"A very nice book\", \"F. Dupont\", 2014)\n",
    "book2 = Book(\"A very smart book\", \"A. Einstein\", 1923)\n",
    "book3 = Book(\"A very stupid comics\", \"D. Duck\", 1937)\n",
    "\n",
    "print(book1)\n",
    "book1.key\n",
    "print(book1.to_latex())"
   ]
  },
  {
   "cell_type": "code",
   "execution_count": 60,
   "id": "efb9b14a",
   "metadata": {},
   "outputs": [
    {
     "name": "stdout",
     "output_type": "stream",
     "text": [
      "\\begin{thebibliography}{9}\n",
      "\\bibitem{Dupont2014}\n",
      "F. Dupont (2014) \\emph{A very nice book}\n",
      "\n",
      "\\bibitem{Einstein1923}\n",
      "A. Einstein (1923) \\emph{A very smart book}\n",
      "\n",
      "\\bibitem{Duck1937}\n",
      "D. Duck (1937) \\emph{A very stupid comics}\n",
      "\\end{thebibliography}\n",
      "        \n"
     ]
    }
   ],
   "source": [
    "bibliography = Bibliography([book1, book2, book3])\n",
    "print(bibliography.to_latex())"
   ]
  },
  {
   "cell_type": "code",
   "execution_count": 62,
   "id": "503da544",
   "metadata": {},
   "outputs": [
    {
     "data": {
      "text/plain": [
       "1"
      ]
     },
     "execution_count": 62,
     "metadata": {},
     "output_type": "execute_result"
    }
   ],
   "source": [
    "bibliography.filter_by_year(1937).number_of_books"
   ]
  },
  {
   "cell_type": "code",
   "execution_count": 17,
   "id": "8d7edb64",
   "metadata": {},
   "outputs": [
    {
     "data": {
      "text/plain": [
       "Bibliography([Book('A very nice book', 'F. Dupont', 2014), Book('A very smart book', 'A. Einstein', 1923), Book('A very stupid comics', 'D. Duck', 1937)])"
      ]
     },
     "execution_count": 17,
     "metadata": {},
     "output_type": "execute_result"
    }
   ],
   "source": [
    "Bibliography([Book('A very nice book', 'F. Dupont', 2014), Book('A very smart book', 'A. Einstein', 1923), Book('A very stupid comics', 'D. Duck', 1937)])"
   ]
  },
  {
   "cell_type": "code",
   "execution_count": 8,
   "id": "0fcea652",
   "metadata": {},
   "outputs": [
    {
     "data": {
      "text/plain": [
       "'Hello'"
      ]
     },
     "execution_count": 8,
     "metadata": {},
     "output_type": "execute_result"
    }
   ],
   "source": [
    "bibli"
   ]
  },
  {
   "cell_type": "code",
   "execution_count": null,
   "id": "f5c3698f",
   "metadata": {},
   "outputs": [],
   "source": []
  }
 ],
 "metadata": {
  "kernelspec": {
   "display_name": "Python 3",
   "language": "python",
   "name": "python3"
  },
  "language_info": {
   "codemirror_mode": {
    "name": "ipython",
    "version": 3
   },
   "file_extension": ".py",
   "mimetype": "text/x-python",
   "name": "python",
   "nbconvert_exporter": "python",
   "pygments_lexer": "ipython3",
   "version": "3.8.8"
  }
 },
 "nbformat": 4,
 "nbformat_minor": 5
}
